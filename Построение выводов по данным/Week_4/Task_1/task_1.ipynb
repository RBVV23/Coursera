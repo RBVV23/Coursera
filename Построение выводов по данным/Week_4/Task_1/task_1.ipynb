{
 "cells": [
  {
   "cell_type": "code",
   "execution_count": 42,
   "id": "a09911ad",
   "metadata": {},
   "outputs": [
    {
     "name": "stdout",
     "output_type": "stream",
     "text": [
      "Populating the interactive namespace from numpy and matplotlib\n"
     ]
    },
    {
     "name": "stderr",
     "output_type": "stream",
     "text": [
      "C:\\Users\\User\\anaconda3\\lib\\site-packages\\IPython\\core\\magics\\pylab.py:159: UserWarning: pylab import has clobbered these variables: ['test']\n",
      "`%matplotlib` prevents importing * from pylab and numpy\n",
      "  warn(\"pylab import has clobbered these variables: %s\"  % clobbered +\n"
     ]
    }
   ],
   "source": [
    "from scipy import stats\n",
    "import pandas as pd\n",
    "import matplotlib.pyplot as plt\n",
    "import numpy as np"
   ]
  },
  {
   "cell_type": "code",
   "execution_count": 121,
   "id": "1fedc1a3",
   "metadata": {},
   "outputs": [],
   "source": [
    "from statsmodels.stats.weightstats import zconfint\n",
    "from statsmodels.stats.proportion import proportion_confint"
   ]
  },
  {
   "cell_type": "code",
   "execution_count": 4,
   "id": "a5245886",
   "metadata": {},
   "outputs": [],
   "source": [
    "data = pd.read_csv('credit_card_default_analysis.csv')"
   ]
  },
  {
   "cell_type": "code",
   "execution_count": 7,
   "id": "39520c4b",
   "metadata": {},
   "outputs": [],
   "source": [
    "pd.set_option('display.max_columns', 25)"
   ]
  },
  {
   "cell_type": "code",
   "execution_count": 16,
   "id": "d9a7906d",
   "metadata": {},
   "outputs": [
    {
     "data": {
      "text/html": [
       "<div>\n",
       "<style scoped>\n",
       "    .dataframe tbody tr th:only-of-type {\n",
       "        vertical-align: middle;\n",
       "    }\n",
       "\n",
       "    .dataframe tbody tr th {\n",
       "        vertical-align: top;\n",
       "    }\n",
       "\n",
       "    .dataframe thead th {\n",
       "        text-align: right;\n",
       "    }\n",
       "</style>\n",
       "<table border=\"1\" class=\"dataframe\">\n",
       "  <thead>\n",
       "    <tr style=\"text-align: right;\">\n",
       "      <th></th>\n",
       "      <th>ID</th>\n",
       "      <th>LIMIT_BAL</th>\n",
       "      <th>SEX</th>\n",
       "      <th>EDUCATION</th>\n",
       "      <th>MARRIAGE</th>\n",
       "      <th>AGE</th>\n",
       "      <th>PAY_0</th>\n",
       "      <th>PAY_2</th>\n",
       "      <th>PAY_3</th>\n",
       "      <th>PAY_4</th>\n",
       "      <th>PAY_5</th>\n",
       "      <th>PAY_6</th>\n",
       "      <th>BILL_AMT1</th>\n",
       "      <th>BILL_AMT2</th>\n",
       "      <th>BILL_AMT3</th>\n",
       "      <th>BILL_AMT4</th>\n",
       "      <th>BILL_AMT5</th>\n",
       "      <th>BILL_AMT6</th>\n",
       "      <th>PAY_AMT1</th>\n",
       "      <th>PAY_AMT2</th>\n",
       "      <th>PAY_AMT3</th>\n",
       "      <th>PAY_AMT4</th>\n",
       "      <th>PAY_AMT5</th>\n",
       "      <th>PAY_AMT6</th>\n",
       "      <th>default</th>\n",
       "    </tr>\n",
       "  </thead>\n",
       "  <tbody>\n",
       "    <tr>\n",
       "      <th>0</th>\n",
       "      <td>1</td>\n",
       "      <td>20000</td>\n",
       "      <td>2</td>\n",
       "      <td>2</td>\n",
       "      <td>1</td>\n",
       "      <td>24</td>\n",
       "      <td>2</td>\n",
       "      <td>2</td>\n",
       "      <td>0</td>\n",
       "      <td>0</td>\n",
       "      <td>0</td>\n",
       "      <td>0</td>\n",
       "      <td>3913</td>\n",
       "      <td>3102</td>\n",
       "      <td>689</td>\n",
       "      <td>0</td>\n",
       "      <td>0</td>\n",
       "      <td>0</td>\n",
       "      <td>0</td>\n",
       "      <td>689</td>\n",
       "      <td>0</td>\n",
       "      <td>0</td>\n",
       "      <td>0</td>\n",
       "      <td>0</td>\n",
       "      <td>1</td>\n",
       "    </tr>\n",
       "    <tr>\n",
       "      <th>1</th>\n",
       "      <td>2</td>\n",
       "      <td>120000</td>\n",
       "      <td>2</td>\n",
       "      <td>2</td>\n",
       "      <td>2</td>\n",
       "      <td>26</td>\n",
       "      <td>0</td>\n",
       "      <td>2</td>\n",
       "      <td>0</td>\n",
       "      <td>0</td>\n",
       "      <td>0</td>\n",
       "      <td>2</td>\n",
       "      <td>2682</td>\n",
       "      <td>1725</td>\n",
       "      <td>2682</td>\n",
       "      <td>3272</td>\n",
       "      <td>3455</td>\n",
       "      <td>3261</td>\n",
       "      <td>0</td>\n",
       "      <td>1000</td>\n",
       "      <td>1000</td>\n",
       "      <td>1000</td>\n",
       "      <td>0</td>\n",
       "      <td>2000</td>\n",
       "      <td>1</td>\n",
       "    </tr>\n",
       "    <tr>\n",
       "      <th>2</th>\n",
       "      <td>3</td>\n",
       "      <td>90000</td>\n",
       "      <td>2</td>\n",
       "      <td>2</td>\n",
       "      <td>2</td>\n",
       "      <td>34</td>\n",
       "      <td>0</td>\n",
       "      <td>0</td>\n",
       "      <td>0</td>\n",
       "      <td>0</td>\n",
       "      <td>0</td>\n",
       "      <td>0</td>\n",
       "      <td>29239</td>\n",
       "      <td>14027</td>\n",
       "      <td>13559</td>\n",
       "      <td>14331</td>\n",
       "      <td>14948</td>\n",
       "      <td>15549</td>\n",
       "      <td>1518</td>\n",
       "      <td>1500</td>\n",
       "      <td>1000</td>\n",
       "      <td>1000</td>\n",
       "      <td>1000</td>\n",
       "      <td>5000</td>\n",
       "      <td>0</td>\n",
       "    </tr>\n",
       "    <tr>\n",
       "      <th>3</th>\n",
       "      <td>4</td>\n",
       "      <td>50000</td>\n",
       "      <td>2</td>\n",
       "      <td>2</td>\n",
       "      <td>1</td>\n",
       "      <td>37</td>\n",
       "      <td>0</td>\n",
       "      <td>0</td>\n",
       "      <td>0</td>\n",
       "      <td>0</td>\n",
       "      <td>0</td>\n",
       "      <td>0</td>\n",
       "      <td>46990</td>\n",
       "      <td>48233</td>\n",
       "      <td>49291</td>\n",
       "      <td>28314</td>\n",
       "      <td>28959</td>\n",
       "      <td>29547</td>\n",
       "      <td>2000</td>\n",
       "      <td>2019</td>\n",
       "      <td>1200</td>\n",
       "      <td>1100</td>\n",
       "      <td>1069</td>\n",
       "      <td>1000</td>\n",
       "      <td>0</td>\n",
       "    </tr>\n",
       "    <tr>\n",
       "      <th>4</th>\n",
       "      <td>5</td>\n",
       "      <td>50000</td>\n",
       "      <td>1</td>\n",
       "      <td>2</td>\n",
       "      <td>1</td>\n",
       "      <td>57</td>\n",
       "      <td>0</td>\n",
       "      <td>0</td>\n",
       "      <td>0</td>\n",
       "      <td>0</td>\n",
       "      <td>0</td>\n",
       "      <td>0</td>\n",
       "      <td>8617</td>\n",
       "      <td>5670</td>\n",
       "      <td>35835</td>\n",
       "      <td>20940</td>\n",
       "      <td>19146</td>\n",
       "      <td>19131</td>\n",
       "      <td>2000</td>\n",
       "      <td>36681</td>\n",
       "      <td>10000</td>\n",
       "      <td>9000</td>\n",
       "      <td>689</td>\n",
       "      <td>679</td>\n",
       "      <td>0</td>\n",
       "    </tr>\n",
       "  </tbody>\n",
       "</table>\n",
       "</div>"
      ],
      "text/plain": [
       "   ID  LIMIT_BAL  SEX  EDUCATION  MARRIAGE  AGE  PAY_0  PAY_2  PAY_3  PAY_4  PAY_5  PAY_6  BILL_AMT1  BILL_AMT2  \\\n",
       "0   1      20000    2          2         1   24      2      2      0      0      0      0       3913       3102   \n",
       "1   2     120000    2          2         2   26      0      2      0      0      0      2       2682       1725   \n",
       "2   3      90000    2          2         2   34      0      0      0      0      0      0      29239      14027   \n",
       "3   4      50000    2          2         1   37      0      0      0      0      0      0      46990      48233   \n",
       "4   5      50000    1          2         1   57      0      0      0      0      0      0       8617       5670   \n",
       "\n",
       "   BILL_AMT3  BILL_AMT4  BILL_AMT5  BILL_AMT6  PAY_AMT1  PAY_AMT2  PAY_AMT3  PAY_AMT4  PAY_AMT5  PAY_AMT6  default  \n",
       "0        689          0          0          0         0       689         0         0         0         0        1  \n",
       "1       2682       3272       3455       3261         0      1000      1000      1000         0      2000        1  \n",
       "2      13559      14331      14948      15549      1518      1500      1000      1000      1000      5000        0  \n",
       "3      49291      28314      28959      29547      2000      2019      1200      1100      1069      1000        0  \n",
       "4      35835      20940      19146      19131      2000     36681     10000      9000       689       679        0  "
      ]
     },
     "execution_count": 16,
     "metadata": {},
     "output_type": "execute_result"
    }
   ],
   "source": [
    "data.head()"
   ]
  },
  {
   "cell_type": "code",
   "execution_count": 68,
   "id": "524bc949",
   "metadata": {},
   "outputs": [
    {
     "name": "stdout",
     "output_type": "stream",
     "text": [
      "control_median =  150000.0\n",
      "test_median =  90000.0\n"
     ]
    },
    {
     "data": {
      "image/png": "[encoded data removed]",
      "text/plain": [
       "<Figure size 1152x648 with 2 Axes>"
      ]
     },
     "metadata": {
      "needs_background": "light"
     },
     "output_type": "display_data"
    }
   ],
   "source": [
    "plt.figure(figsize=(16,9))\n",
    "plt.subplot(121)\n",
    "plt.title('Гистограмма размера кредитного лимита')\n",
    "plt.hist(data['LIMIT_BAL'], edgecolor='k')\n",
    "# plt.show()\n",
    "\n",
    "# вернули кредит\n",
    "control = data[data.default == 0]['LIMIT_BAL']\n",
    "# control_median = np.median(control['LIMIT_BAL'])\n",
    "print('control_median = ', control_median)\n",
    "\n",
    "# не вернули кредит\n",
    "test = data[data.default == 1]['LIMIT_BAL']\n",
    "# test_median = np.median(test['LIMIT_BAL'])\n",
    "print('test_median = ', test_median)\n",
    "\n",
    "# медианы выборок различны, но это лишь грубое приближение\n",
    "\n",
    "plt.subplot(122)\n",
    "plt.title('Гистограмма размера кредитного лимита (вернули/не вернули)')\n",
    "plt.hist(control, label='Вернули кредит', edgecolor='k')\n",
    "plt.hist(test, label='Не вернули кредит', edgecolor='k')\n",
    "plt.legend()\n",
    "plt.show()\n"
   ]
  },
  {
   "cell_type": "code",
   "execution_count": 112,
   "id": "d0cfa674",
   "metadata": {},
   "outputs": [],
   "source": [
    "# функция для построения доверительных интервалов для медиан (на основе распредления Бернулли)\n",
    "\n",
    "# sample = control\n",
    "# alpha = 0.05\n",
    "# p = 0.5\n",
    "\n",
    "def my_binom_zconfint(sample, p, alpha=0.05):\n",
    "    q = 1 - p\n",
    "    n = len(sample)\n",
    "    mean = n*p\n",
    "    variance = n*p*q\n",
    "    z = z = stats.norm.ppf(1 - alpha/2.)\n",
    "    low_number = int(round(mean - z*np.sqrt(variance)))\n",
    "    low = np.sort(sample)[low_number]\n",
    "    high_number = int(round(mean + z*np.sqrt(variance)))\n",
    "    high =  np.sort(sample)[high_number]\n",
    "    return low, high\n"
   ]
  },
  {
   "cell_type": "code",
   "execution_count": 114,
   "id": "d4fcbf03",
   "metadata": {},
   "outputs": [
    {
     "name": "stdout",
     "output_type": "stream",
     "text": [
      "Доверительный интервал для медианы среди вернувших кредит:\n",
      "[150000; 150000]\n",
      "Доверительный интервал для медианы среди не вернувших кредит:\n",
      "[80000; 90000]\n"
     ]
    }
   ],
   "source": [
    "# 1a) получим интервальные оценки медианных значений выборок критерием знаков на основе биноминальног распределения\n",
    "\n",
    "interval = my_binom_zconfint(control, 0.5)\n",
    "print('Доверительный интервал для медианы среди вернувших кредит:')\n",
    "print('[{}; {}]'.format(interval[0], interval[1]))\n",
    "\n",
    "interval = np.round(my_binom_zconfint(test, 0.5))\n",
    "print('Доверительный интервал для медианы среди не вернувших кредит:')\n",
    "print('[{}; {}]'.format(interval[0], interval[1]))\n",
    "\n",
    "# доверительные интервалы для медиан значительно различаются"
   ]
  },
  {
   "cell_type": "code",
   "execution_count": 69,
   "id": "5b32c08f",
   "metadata": {},
   "outputs": [
    {
     "name": "stdout",
     "output_type": "stream",
     "text": [
      "MannwhitneyuResult(statistic=59257217.5, pvalue=6.127742909111652e-190)\n",
      "p-value =  6.127742909111652e-190\n"
     ]
    }
   ],
   "source": [
    "# 1b) выборки имеют разный размер, поэтому будем использовать непараметрический критерий Манна-Уитни\n",
    "res = stats.mannwhitneyu(control, test)\n",
    "print(res)\n",
    "print('p-value = ', res[1])\n",
    "# значение p-value значительно меньше порога, поэтому нулевая гипотеза отвергается, а значит распределения выборок различны\n",
    "\n",
    "# полученный результат значим, так как медианы значительно отличаются"
   ]
  },
  {
   "cell_type": "code",
   "execution_count": 120,
   "id": "f0812740",
   "metadata": {},
   "outputs": [
    {
     "data": {
      "image/png": "[encoded data removed]",
      "text/plain": [
       "<Figure size 1152x648 with 2 Axes>"
      ]
     },
     "metadata": {
      "needs_background": "light"
     },
     "output_type": "display_data"
    }
   ],
   "source": [
    "plt.figure(figsize=(16,9))\n",
    "subplot(121)\n",
    "plt.title('Половая гистограмма заёмщиков')\n",
    "plt.hist(data.SEX, edgecolor='k')\n",
    "# мужчины\n",
    "men = data[data.SEX == 1]['default']\n",
    "\n",
    "# женщины\n",
    "women = data[data.SEX == 2]['default']\n",
    "\n",
    "plt.title('Гистограмма невозвратов кредитов (по половому признаку)')\n",
    "plt.subplot(122)\n",
    "plt.hist(data.SEX[data.default == 0], label='Вернули', edgecolor='k')\n",
    "plt.hist(data.SEX[data.default == 1], label='Не вернули', edgecolor='k')\n",
    "plt.legend()\n",
    "plt.show()\n",
    "\n",
    "# визуально женщины реже не возвращают кредиты"
   ]
  },
  {
   "cell_type": "code",
   "execution_count": 134,
   "id": "57194d29",
   "metadata": {},
   "outputs": [
    {
     "name": "stdout",
     "output_type": "stream",
     "text": [
      "Доверительный интервал для доли мужчин среди вернувших:\n",
      "[0.3796; 0.3921]\n",
      "Доверительный интервал для доли мужчин среди не вернувших:\n",
      "[0.4211; 0.4449]\n"
     ]
    }
   ],
   "source": [
    "# 2) анализ гендерных различий среди вернувших и не вернувших кредит (метод Вильсона)\n",
    "\n",
    "# вернули\n",
    "sample = np.abs(data.SEX[data.default == 0] - 2)\n",
    "interval = np.round(proportion_confint(count=sum(sample), nobs=len(sample),\n",
    "                                     method='wilson'),4)\n",
    "\n",
    "print('Доверительный интервал для доли мужчин среди вернувших:')\n",
    "print('[{}; {}]'.format(interval[0], interval[1]))\n",
    "\n",
    "# женщины\n",
    "sample = np.abs(data.SEX[data.default == 1] - 2) \n",
    "interval = np.round(proportion_confint(count=sum(sample), nobs=len(sample),\n",
    "                                     method='wilson'),4)\n",
    "print('Доверительный интервал для доли мужчин среди не вернувших:')\n",
    "print('[{}; {}]'.format(interval[0], interval[1]))"
   ]
  },
  {
   "cell_type": "code",
   "execution_count": 135,
   "id": "225fb1d3",
   "metadata": {},
   "outputs": [],
   "source": [
    "# функция для построения доверительного интервала разности долей двух независимых выборок\n",
    "\n",
    "def my_proportions_confint_diff_ind(sample1, sample2, alpha=0.05):\n",
    "    n1 = len(sample1)\n",
    "    n2 = len(sample2)\n",
    "    p1 = float(sum(sample1)/n1)\n",
    "    p2 = float(sum(sample2)/n2)\n",
    "    z = stats.norm.ppf(1-alpha/2.)\n",
    "    low = p1-p2 - z*sqrt(p1*(1-p1)/n1 + p2*(1-p2)/n2)\n",
    "    high = p1-p2 + z*sqrt(p1*(1-p1)/n1 + p2*(1-p2)/n2)\n",
    "    return low, high\n"
   ]
  },
  {
   "cell_type": "code",
   "execution_count": 137,
   "id": "9705a93a",
   "metadata": {},
   "outputs": [
    {
     "name": "stdout",
     "output_type": "stream",
     "text": [
      "Доверительный интервал разности долей мужчин среди вернувших и не вернувших:\n",
      "[-0.0605; -0.0336]\n"
     ]
    }
   ],
   "source": [
    "sample1 = np.abs(data.SEX[data.default == 0] - 2) \n",
    "sample2 = np.abs(data.SEX[data.default == 1] - 2) \n",
    "\n",
    "interval = np.round(my_proportions_confint_diff_ind(sample1, sample2, alpha=0.05),4)\n",
    "\n",
    "print('Доверительный интервал разности долей мужчин среди вернувших и не вернувших:')\n",
    "print('[{}; {}]'.format(interval[0], interval[1]))\n",
    "\n",
    "# разность долей значительная, учитывая специфику задачи банковского скоринга"
   ]
  },
  {
   "cell_type": "code",
   "execution_count": 143,
   "id": "e12bd5b2",
   "metadata": {},
   "outputs": [],
   "source": [
    "# 2) анализ гендерных различий среди вернувших и не вернувших кредит (Z-критерий)\n",
    "\n",
    "sample1 = np.abs(data.SEX[data.default == 0] - 2) \n",
    "sample2 = np.abs(data.SEX[data.default == 1] - 2) \n"
   ]
  },
  {
   "cell_type": "code",
   "execution_count": 146,
   "id": "29b062e5",
   "metadata": {},
   "outputs": [],
   "source": [
    "# функция для вычисления Z-статистика для независимых выборок\n",
    "\n",
    "def my_proportions_diff_z_stat_ind(sample1, sample2):\n",
    "    n1 = len(sample1)\n",
    "    p1 = sum(sample1) / n1\n",
    "    n2 = len(sample2)\n",
    "    p2 = sum(sample2) / n2\n",
    "    P = (p1 * n1 + p2 * n2) / (n1 + n2)\n",
    "    z_stat = (p1 - p2) / np.sqrt(P * (1 - P) * (1 / n1 + 1 / n2))\n",
    "    return z_stat"
   ]
  },
  {
   "cell_type": "code",
   "execution_count": 148,
   "id": "a349c099",
   "metadata": {},
   "outputs": [
    {
     "name": "stdout",
     "output_type": "stream",
     "text": [
      "p-value =  4.472866521609831e-12\n"
     ]
    }
   ],
   "source": [
    "z_stat = my_proportions_diff_z_stat_ind(sample1, sample2)\n",
    "\n",
    "p_value = 2 * (1 - stats.norm.cdf(abs(z_stat)))\n",
    "\n",
    "print('p-value = ', p_value)\n",
    "\n",
    "# значение p-value значительно меньше порога, поэтому нулевая гипотеза отвергается, а значит распределения выборок различны\n",
    "# результат статистически значим, потому что разность долей может достигать 6%"
   ]
  },
  {
   "cell_type": "code",
   "execution_count": 160,
   "id": "afa6040e",
   "metadata": {},
   "outputs": [
    {
     "data": {
      "image/png": "[encoded data removed]",
      "text/plain": [
       "<Figure size 1152x648 with 2 Axes>"
      ]
     },
     "metadata": {
      "needs_background": "light"
     },
     "output_type": "display_data"
    }
   ],
   "source": [
    "plt.figure(figsize=(16,9))\n",
    "subplot(121)\n",
    "plt.title('Гистограмма образования заёмщиков')\n",
    "plt.hist(data.EDUCATION, bins=6, edgecolor='k')\n",
    "# plt.show\n",
    "\n",
    "subplot(122)\n",
    "plt.title('Гистограмма образования заёмщиков (вернули/не вернули)')\n",
    "plt.hist(data.EDUCATION[data.default == 0], label='Вернули', bins=6, edgecolor='k')\n",
    "plt.hist(data.EDUCATION[data.default == 1], label='Не вернули', bins=6,  edgecolor='k')\n",
    "plt.legend()\n",
    "plt.show()\n",
    "\n",
    "# на основе визуальных данных видно, что кредиты берут преимущественно магистры, бакалвры и выпускники школ.\n",
    "# разница в распределении образования среди вернувших и не вернувших кредит не наблюдается"
   ]
  },
  {
   "cell_type": "code",
   "execution_count": 195,
   "id": "762f1a55",
   "metadata": {},
   "outputs": [
    {
     "name": "stdout",
     "output_type": "stream",
     "text": [
      "Уровень образования \"0\", доля возвратов: 100.0%\n",
      "Уровень образования \"1\", доля возвратов: 80.8%\n",
      "Уровень образования \"2\", доля возвратов: 76.3%\n",
      "Уровень образования \"3\", доля возвратов: 74.8%\n",
      "Уровень образования \"4\", доля возвратов: 94.3%\n",
      "Уровень образования \"5\", доля возвратов: 93.6%\n",
      "Уровень образования \"6\", доля возвратов: 84.3%\n"
     ]
    }
   ],
   "source": [
    "# 3) проверим гипотезу об одинаковом распределении образования среди вернувших и не вернувших кредит\n",
    "\n",
    "proportions = []\n",
    "\n",
    "for edu in range(data.EDUCATION.value_counts().shape[0]):\n",
    "#     print(data[(data.EDUCATION == edu & data.default == 1)])\n",
    "    def_0 = data[(data.EDUCATION == edu) & (data.default == 0)].shape[0]\n",
    "    alls = data[data.EDUCATION == edu].shape[0]\n",
    "    prop = def_0/alls\n",
    "    print('Уровень образования \"{}\", доля возвратов: {}%'.format(edu, round(prop*100,1)))\n",
    "    proportions.append(prop)"
   ]
  },
  {
   "cell_type": "code",
   "execution_count": 193,
   "id": "7f9499dc",
   "metadata": {},
   "outputs": [
    {
     "data": {
      "image/png": "[encoded data removed]",
      "text/plain": [
       "<Figure size 1152x648 with 1 Axes>"
      ]
     },
     "metadata": {
      "needs_background": "light"
     },
     "output_type": "display_data"
    }
   ],
   "source": [
    "plt.figure(figsize=(16,9))\n",
    "plt.title('Зависимость доли возвращённых кредитов от уровня образования')\n",
    "plt.plot(proportions, linewidth=5, color='r')\n",
    "plt.grid()\n",
    "plt.axis([0, 6, 0.5, 1])\n",
    "plt.show()\n",
    "\n",
    "# из нашей выборки, чаще всего (100% случаев) возращают люди с докторской степенью, реже всего (74,8% случаев) - выпускники школ\n",
    "# распределение не выглядит равномерным, можно ожидать, что образование влияет на возврат кредита, но только после строгой проверки"
   ]
  },
  {
   "cell_type": "code",
   "execution_count": null,
   "id": "13060abf",
   "metadata": {},
   "outputs": [],
   "source": [
    "# используем критерий Пирснона (кси-квадрат), чтобы сделать вывод о нормальности распределения доли возвращаемых кредитов от уровня образования\n",
    "\n"
   ]
  },
  {
   "cell_type": "code",
   "execution_count": null,
   "id": "201be5ea",
   "metadata": {},
   "outputs": [],
   "source": []
  }
 ],
 "metadata": {
  "kernelspec": {
   "display_name": "Python 3",
   "language": "python",
   "name": "python3"
  },
  "language_info": {
   "codemirror_mode": {
    "name": "ipython",
    "version": 3
   },
   "file_extension": ".py",
   "mimetype": "text/x-python",
   "name": "python",
   "nbconvert_exporter": "python",
   "pygments_lexer": "ipython3",
   "version": "3.8.8"
  }
 },
 "nbformat": 4,
 "nbformat_minor": 5
}
