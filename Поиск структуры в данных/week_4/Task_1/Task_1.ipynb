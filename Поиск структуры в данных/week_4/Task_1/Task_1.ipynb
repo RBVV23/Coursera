{
 "cells": [
  {
   "cell_type": "markdown",
   "metadata": {},
   "source": [
    "# Тематическая модель [Постнауки](http://postnauka.ru)\n",
    "## Peer Review (optional)"
   ]
  },
  {
   "cell_type": "markdown",
   "metadata": {},
   "source": [
    "В этом задании мы применим аппарат тематического моделирования к коллекции текстовых записей видеолекций, скачанных с сайта Постнаука. Мы будем визуализировать модель и создавать прототип тематического навигатора по коллекции. В коллекции 1728 документов, размер словаря - 38467 слов. Слова лемматизированы, то есть приведены к начальной форме, с помощью программы [mystem](https://tech.yandex.ru/mystem/), коллекция сохранена в [формате vowpal wabbit](http://docs.bigartm.org/en/latest/formats.html). В каждой строке до первой черты записана информация о документе (ссылка на страницу с лекцией), после первой черты следует описание документа. Используются две модальности - текстовая (\"text\") и модальность авторов (\"author\"); у каждого документа один автор."
   ]
  },
  {
   "cell_type": "markdown",
   "metadata": {},
   "source": [
    "Для выполнения задания понадобится библиотека [BigARTM](http://docs.bigartm.org). В демонстрации показан пример использования библиотеки версии 0.9.0. В новой версии изменены принципы работы со словарями: они вынесены в отдельный класс (пример в [Release Notes](http://docs.bigartm.org/en/stable/release_notes/python.html)).\n",
    "\n",
    "Спецификации всех функций вы можете смотреть на странице [Python API](http://bigartm.readthedocs.io/en/stable/python_interface.html)."
   ]
  },
  {
   "cell_type": "code",
   "execution_count": 5,
   "metadata": {},
   "outputs": [],
   "source": [
    "import artm"
   ]
  },
  {
   "cell_type": "code",
   "execution_count": 6,
   "metadata": {},
   "outputs": [],
   "source": [
    "from matplotlib import pyplot as plt\n",
    "import seaborn\n",
    "%matplotlib inline\n",
    "seaborn.set_style(\"whitegrid\", {'axes.grid' : False})"
   ]
  },
  {
   "cell_type": "code",
   "execution_count": 7,
   "metadata": {},
   "outputs": [
    {
     "name": "stderr",
     "output_type": "stream",
     "text": [
      "C:\\Users\\User\\anaconda3\\lib\\site-packages\\ipykernel\\ipkernel.py:287: DeprecationWarning: `should_run_async` will not call `transform_cell` automatically in the future. Please pass the result to `transformed_cell` argument and any exception that happen during thetransform in `preprocessing_exc_tuple` in IPython 7.17 and above.\n",
      "  and should_run_async(code)\n"
     ]
    }
   ],
   "source": [
    "import numpy as np\n",
    "import pandas as pd"
   ]
  },
  {
   "cell_type": "markdown",
   "metadata": {},
   "source": [
    "##### Считывание данных"
   ]
  },
  {
   "cell_type": "markdown",
   "metadata": {},
   "source": [
    "Создайте объект класса artm.BatchVectorizer, который будет ссылаться на директорию с пакетами данных (батчами). Чтобы библиотека могла преобразовать текстовый файл в батчи, создайте пустую директорию и укажите ее название в параметре target_folder. Размер батча для небольших коллекций (как наша) не важен, вы можете указать любой."
   ]
  },
  {
   "cell_type": "code",
   "execution_count": 8,
   "metadata": {},
   "outputs": [],
   "source": [
    "# Ваш код\n",
    "batch_vectorizer = artm.BatchVectorizer(data_path=\"lectures.txt\", data_format=\"vowpal_wabbit\", target_folder=\"lectures_batches\", batch_size=100)"
   ]
  },
  {
   "cell_type": "markdown",
   "metadata": {},
   "source": [
    "##### Инициализация модели"
   ]
  },
  {
   "cell_type": "markdown",
   "metadata": {},
   "source": [
    "Создайте объект класса artm.Model с 30 темами, именами тем, указанными ниже и единичными весами обеих модальностей. Количество тем выбрано не очень большим, чтобы вам было удобнее работать с темами. На этой коллекции можно строить и большее число тем, тогда они будут более узко специализированы."
   ]
  },
  {
   "cell_type": "code",
   "execution_count": 9,
   "metadata": {},
   "outputs": [],
   "source": [
    "T = 30   # количество тем\n",
    "topic_names=[\"sbj\"+str(i) for i in range(T-1)]+[\"bcg\"]\n",
    "# Ваш код\n",
    "model_artm = artm.ARTM(num_topics=T, topic_names=topic_names, class_ids={\"text\":1, \"author\":1},\n",
    "                       num_document_passes=1, reuse_theta=True, cache_theta=True, seed=-1)"
   ]
  },
  {
   "cell_type": "markdown",
   "metadata": {},
   "source": [
    "Мы будем строить 29 предметных тем и одну фоновую. \n",
    "\n",
    "Соберите словарь с помощью метода gather_dictionary и инициализируйте модель, указав random_seed=1. Обязательно укажите свое название словаря, оно понадобится при добавлении регуляризаторов."
   ]
  },
  {
   "cell_type": "code",
   "execution_count": 10,
   "metadata": {},
   "outputs": [],
   "source": [
    "# Ваш код\n",
    "dictionary = artm.Dictionary('dictionary')\n",
    "dictionary.gather(batch_vectorizer.data_path)\n",
    "\n",
    "model_artm.seed=1\n",
    "model_artm.initialize(dictionary=dictionary)"
   ]
  },
  {
   "cell_type": "markdown",
   "metadata": {},
   "source": [
    "##### Добавление score"
   ]
  },
  {
   "cell_type": "markdown",
   "metadata": {},
   "source": [
    "Создайте два измерителя качества artm.TopTokensScore - по одному для каждой модальности; количество токенов 15. Названия для score придумайте самостоятельно."
   ]
  },
  {
   "cell_type": "code",
   "execution_count": 11,
   "metadata": {},
   "outputs": [],
   "source": [
    "# Ваш код\n",
    "model_artm.scores.add(artm.TopTokensScore(name='TTTScore', class_id=\"text\"))\n",
    "model_artm.scores.add(artm.TopTokensScore(name='TTAScore', class_id=\"author\"))"
   ]
  },
  {
   "cell_type": "markdown",
   "metadata": {},
   "source": [
    "##### Построение модели"
   ]
  },
  {
   "cell_type": "markdown",
   "metadata": {},
   "source": [
    "Мы будем строить модель в два этапа: сначала добавим сглаживающий регуляризатор фоновой темы и настроим параметры модели, затем - добавим разреживающий регуляризатор предметрых тем и выполним еще несколько итераций. Так мы сможем получить наиболее чистые от фоновых слов предметные темы. Сглаживающий и разреживающий регуляризаторы задаются одним и тем же классом artm.SmoothSparsePhiRegularizer: если коэффициент tau положительный, то регуляризатор будет сглаживающий, если отрицательный - разреживающий.\n",
    "\n",
    "Если вы хотите подробнее разобраться, как выполняется регуляризация тематической модели в BigARTM, вы можете прочитать [статью](https://s3-eu-west-1.amazonaws.com/artm/voron-potap14artm-rus.pdf), раздел 4."
   ]
  },
  {
   "cell_type": "markdown",
   "metadata": {},
   "source": [
    "Добавьте сглаживающий регуляризатор с коэффициентом tau = 1e5, указав название своего словаря в dictionary, модальность текста в class_ids и тему \"bcg\" в topic_names."
   ]
  },
  {
   "cell_type": "code",
   "execution_count": 13,
   "metadata": {},
   "outputs": [],
   "source": [
    "# Ваш код\n",
    "model_artm.regularizers.add(artm.SmoothSparsePhiRegularizer(name='SparsePhi',\n",
    "                                                            tau=1e5, dictionary=dictionary, class_ids='text', topic_names='bcg'))"
   ]
  },
  {
   "cell_type": "markdown",
   "metadata": {},
   "source": [
    "Выполните 30 итераций по коллекции (num_collection_passes), количество внутренних итераций установите равным 1. Используйте метод fit_offline модели."
   ]
  },
  {
   "cell_type": "code",
   "execution_count": 14,
   "metadata": {},
   "outputs": [],
   "source": [
    "# Ваш код\n",
    "model_artm.fit_offline(batch_vectorizer=batch_vectorizer, num_collection_passes=30)"
   ]
  },
  {
   "cell_type": "markdown",
   "metadata": {},
   "source": [
    "Добавьте разреживающий регуляризатор с коэффициентом tau=-1e5, указав название своего словаря, модальность текста в class_ids и все темы \"sbjX\" в topic_names."
   ]
  },
  {
   "cell_type": "code",
   "execution_count": 17,
   "metadata": {},
   "outputs": [],
   "source": [
    "# Ваш код\n",
    "model_artm.regularizers.add(artm.SmoothSparsePhiRegularizer(name='SparsePhi2',\n",
    "                                                            tau=-1e5, dictionary=dictionary, class_ids='text', topic_names=topic_names[:-1]))"
   ]
  },
  {
   "cell_type": "markdown",
   "metadata": {},
   "source": [
    "Выполните еще 15 проходов по коллекции."
   ]
  },
  {
   "cell_type": "code",
   "execution_count": 18,
   "metadata": {},
   "outputs": [],
   "source": [
    "# Ваш код\n",
    "model_artm.fit_offline(batch_vectorizer=batch_vectorizer, num_collection_passes=15)"
   ]
  },
  {
   "cell_type": "markdown",
   "metadata": {},
   "source": [
    "##### Интерпретация тем"
   ]
  },
  {
   "cell_type": "markdown",
   "metadata": {},
   "source": [
    "Используя созданные score, выведите топы слов и топы авторов в темах. Удобнее всего выводить топ слов каждой темы с новой строки, указывая название темы в начале строки, и аналогично с авторами."
   ]
  },
  {
   "cell_type": "code",
   "execution_count": 20,
   "metadata": {},
   "outputs": [
    {
     "name": "stdout",
     "output_type": "stream",
     "text": [
      "sbj0: \n",
      "\t частица взаимодействие физика кварк симметрия нейтрино элементарный стандартный материя протон \n",
      "sbj1: \n",
      "\t материал температура химический робот соединение химия полимер свойство металл применение \n",
      "sbj2: \n",
      "\t политический правитель средневековый сага ритуал государь шмитт рассказ враг снорри \n",
      "sbj3: \n",
      "\t университет образование школа познание факультет кафедра концепт гумбольдт студент профессиональный \n",
      "sbj4: \n",
      "\t мозг животное память нейрон мышление нервный когнитивный мышь психолог способность \n",
      "sbj5: \n",
      "\t бог миф греческий мифология грек мифологический шумерский гусейнов генеалогия персонаж \n",
      "sbj6: \n",
      "\t русский текст перевод гласный говор пьеса террор корпус роман устный \n",
      "sbj7: \n",
      "\t раса африка трудность праздник станислав америка монголоид нос тест дробышевский \n",
      "sbj8: \n",
      "\t право римский правовой суд должник юридический собственность обязательство юрист владение \n",
      "sbj9: \n",
      "\t болезнь заболевание пациент боль лечение медицина препарат врач медицинский мутация \n",
      "sbj10: \n",
      "\t вода растение микроорганизм рецептор кислород метан мембрана отбор мышца концентрация \n",
      "sbj11: \n",
      "\t звезда галактика планета диск излучение солнечный скопление солнце масса космический \n",
      "sbj12: \n",
      "\t государство война россия германия империя историк государственный русь немецкий военный \n",
      "sbj13: \n",
      "\t общество понятие знание социология исторический культурный политика российский городской сообщество \n",
      "sbj14: \n",
      "\t структура вещество земля поверхность черный волна дыра атмосфера ядро давление \n",
      "sbj15: \n",
      "\t решение экономический экономика деньги оценка принятие эмоциональный компания пользователь выбор \n",
      "sbj16: \n",
      "\t социальный психология социологический психологический общественный социолог конфликт коллективный повседневный виктор \n",
      "sbj17: \n",
      "\t сеть компьютер алгоритм интеллект компьютерный вычислительный искусственный ошибка машина нейронный \n",
      "sbj18: \n",
      "\t город территория древний традиция памятник море северный письменность цивилизация южный \n",
      "sbj19: \n",
      "\t клетка днк белок ген молекула организм генетический биологический рнк бактерия \n",
      "sbj20: \n",
      "\t поле квантовый атом магнитный свет электрон эффект фотон измерение физико-математический \n",
      "sbj21: \n",
      "\t культура философия философский философ платон анекдот мысль идеология сочинение критика \n",
      "sbj22: \n",
      "\t власть революция король церковь реформа петр французский император франция народ \n",
      "sbj23: \n",
      "\t советский песня союз обряд самка самец эмиграция птица екатерина ссср \n",
      "sbj24: \n",
      "\t язык христианский литературный глагол христианство литература лингвист категория грамматика христианин \n",
      "sbj25: \n",
      "\t пространство математический матрица математика уравнение теоретический линейный преобразование относительность плоскость \n",
      "sbj26: \n",
      "\t ребенок женщина словарь мать костюм орган финансовый банк внимание ощущение \n",
      "sbj27: \n",
      "\t энергия вселенная эволюция темный масштаб реликтовый распределение стадия луч космологический \n",
      "sbj28: \n",
      "\t фильм свобода кино кинематограф культовый актер старение диссертация бердяев академический \n",
      "bcg: \n",
      "\t быть что это который этот как они мочь такой очень \n"
     ]
    }
   ],
   "source": [
    "# Ваш код\n",
    "for topic_name in model_artm.topic_names:\n",
    "    print(topic_name + ': '),\n",
    "    tokens = model_artm.score_tracker[\"TTTScore\"].last_tokens\n",
    "    line = ''\n",
    "    for word in tokens[topic_name]:\n",
    "        line += word + ' '\n",
    "    print('\\t', line)\n"
   ]
  },
  {
   "cell_type": "markdown",
   "metadata": {},
   "source": [
    "В последней теме \"bcg\" должны находиться общеупотребительные слова.\n",
    "\n",
    "Важный шаг в работе с тематической моделью, когда речь идет о визуализации или создании тематического навигатора, это именование тем. Понять, о чем каждая тема, можно по списку ее топовых слов. Например, тему\n",
    "    \n",
    "    частица взаимодействие физика кварк симметрия элементарный нейтрино стандартный материя протон бозон заряд масса ускоритель слабый\n",
    "    \n",
    "можно назвать \"Физика элементарных частиц\". \n",
    "\n",
    "Дайте названия 29 предметным темам. Если вы не знаете, как назвать тему, назовите ее первым встретившимся в ней существительным, хотя при таком подходе навигатор будет менее информативным. Из названий тем составьте список из 29 строк и запишите го в переменную sbj_topic_labels. В переменной topic_labels будут храниться названия всех тем, включая фоновую."
   ]
  },
  {
   "cell_type": "code",
   "execution_count": 22,
   "metadata": {},
   "outputs": [
    {
     "data": {
      "text/plain": [
       "['Физика элемантарных частиц',\n",
       " 'Химия полимеров',\n",
       " 'Политика Средневековья',\n",
       " 'Высшее образование',\n",
       " 'Нейробиология',\n",
       " 'Греческая мифология',\n",
       " 'Русская литература',\n",
       " 'Расовая теория',\n",
       " 'Римское право',\n",
       " 'Медицина',\n",
       " 'Клеточная биология',\n",
       " 'Астрономия',\n",
       " 'История России',\n",
       " 'Обществознание',\n",
       " 'Строение Земли',\n",
       " 'Экономика',\n",
       " 'Социология',\n",
       " 'Искусственный интеллект',\n",
       " 'История Древнего мира',\n",
       " 'Генетика',\n",
       " 'Квантовая физика',\n",
       " 'Фмлософия',\n",
       " 'История Франции',\n",
       " 'История СССР',\n",
       " 'Христианство и письменность',\n",
       " 'Линейная алгебра',\n",
       " 'Финансы и феминизм',\n",
       " 'Теория Большого взрыва',\n",
       " 'Кинематограф',\n",
       " 'Фоновая тема']"
      ]
     },
     "execution_count": 22,
     "metadata": {},
     "output_type": "execute_result"
    }
   ],
   "source": [
    "\n",
    "\n",
    "sbj_topic_labels = [\n",
    "    'Физика элемантарных частиц', #0\n",
    "    'Химия полимеров', #1\n",
    "    'Политика Средневековья', #2\n",
    "    'Высшее образование', #3\n",
    "    'Нейробиология', #4\n",
    "    'Греческая мифология', #5\n",
    "    'Русская литература', #6\n",
    "    'Расовая теория', #7\n",
    "    'Римское право', #8\n",
    "    'Медицина', #9\n",
    "    'Клеточная биология', #10\n",
    "    'Астрономия', #11\n",
    "    'История России', #12\n",
    "    'Обществознание*', #13\n",
    "    'Строение Земли', #14\n",
    "    'Экономика', #15\n",
    "    'Социология', #16\n",
    "    'Искусственный интеллект', #17\n",
    "    'История Древнего мира', #18\n",
    "    'Генетика', #19\n",
    "    'Квантовая физика', #20\n",
    "    'Фмлософия', #21\n",
    "    'История Франции', #22\n",
    "    'История СССР', #23\n",
    "    'Христианство и письменность', #24\n",
    "    'Линейная алгебра', #25\n",
    "    'Финансы и феминизм', #26\n",
    "    'Теория Большого взрыва', #27\n",
    "    'Кинематограф', #28\n",
    "]   # запишите названия тем в список\n",
    "topic_labels = sbj_topic_labels + [\"Фоновая тема\"]\n",
    "topic_labels"
   ]
  },
  {
   "cell_type": "markdown",
   "metadata": {},
   "source": [
    "##### Анализ тем"
   ]
  },
  {
   "cell_type": "markdown",
   "metadata": {},
   "source": [
    "Далее мы будем работать с распределениями тем в документах (матрица $\\Theta$) и авторов в темах (одна из двух матриц $\\Phi$, соответствующая модальности авторов). \n",
    "Создайте переменные, содержащие две этих матрицы, с помощью методов get_phi и get_theta модели. Назовите переменные theta и phi_a. Выведите формы обеих матриц, чтобы понять, по каким осям стоят темы."
   ]
  },
  {
   "cell_type": "code",
   "execution_count": 25,
   "metadata": {},
   "outputs": [
    {
     "name": "stdout",
     "output_type": "stream",
     "text": [
      "(30, 1424)\n",
      "(487, 30)\n"
     ]
    }
   ],
   "source": [
    "model_artm.theta_columns_naming = \"title\" # включает именование столбцов Theta их названиями-ссылками, а не внутренними id \n",
    "# Ваш код\n",
    "theta = model_artm.get_theta()\n",
    "phi_a = model_artm.get_phi(class_ids='author')\n",
    "print(theta.shape)\n",
    "print(phi_a.shape)"
   ]
  },
  {
   "cell_type": "markdown",
   "metadata": {},
   "source": [
    "Визуализируем фрагмент матрицы $\\Theta$ - первые 100 документов (это наиболее простой способ визуально оценить, как темы распределяются в документах). С помощью метода seaborn.heatmap выведите фрагмент theta как изображение. Рекомендация: создайте фигуру pyplot размера (20, 10)."
   ]
  },
  {
   "cell_type": "code",
   "execution_count": 126,
   "metadata": {},
   "outputs": [
    {
     "data": {
      "image/png": "[encoded data removed]",
      "text/plain": [
       "<Figure size 1440x720 with 2 Axes>"
      ]
     },
     "metadata": {},
     "output_type": "display_data"
    }
   ],
   "source": [
    "# Ваш код\n",
    "plt.figure(figsize=(20,10))\n",
    "seaborn.heatmap(theta[theta.columns[0:100]])\n",
    "plt.show()"
   ]
  },
  {
   "cell_type": "markdown",
   "metadata": {},
   "source": [
    "Вы должны увидеть, что фоновая тема имеет большую вероятность в почти каждом документе, и это логично. Кроме того, есть еще одна тема, которая чаще других встречается в документах. Судя по всему, это тема содержит много слов по науку в целом, а каждый документ (видео) в нашей коллекции связан с наукой. Можно (необязательно) дать этой теме название \"Наука\".\n",
    "\n",
    "Помимо этих двух тем, фоновой и общенаучной, каждый документ характеризуется малым числом других тем."
   ]
  },
  {
   "cell_type": "markdown",
   "metadata": {},
   "source": [
    "Оценим $p(t)$ - долю каждой темы во всей коллекции. По формуле полной вероятности вычислять эти величины нужно как\n",
    "$p(t) = \\sum_d p(t|d) p(d)$. Согласно вероятностной модели, $p(d)$ пропорционально длине документа d. Поступим проще: будем полагать, что все документы равновероятны. Тогда оценить $p(t)$ можно, просуммировав $p(t|d)$ по всем документам, а затем разделив полученный вектор на его сумму. \n",
    "\n",
    "Создайте переменную-датафрейм с T строками, индексированными названиями тем, и 1 столбцом, содержащим оценки $p(t)$. Выведите датафрейм на печать."
   ]
  },
  {
   "cell_type": "code",
   "execution_count": 122,
   "metadata": {},
   "outputs": [
    {
     "data": {
      "text/plain": [
       "sbj26    Финансы и феминизм\n",
       "sbj28          Кинематограф\n",
       "sbj7         Расовая теория\n",
       "Name: topic_labels, dtype: object"
      ]
     },
     "execution_count": 122,
     "metadata": {},
     "output_type": "execute_result"
    }
   ],
   "source": [
    "# Ваш код\n",
    "pt = np.sum(theta, axis=1)/np.sum(np.sum(theta, axis=1), axis=0)\n",
    "pt.sort_values()\n",
    "df = pd.DataFrame(pt)\n",
    "df['topic_labels'] = topic_labels\n",
    "df['pt']=df[0]\n",
    "df.drop([0], axis=1, inplace=True)\n",
    "df=df.sort_values('pt')[:-2]\n"
   ]
  },
  {
   "cell_type": "code",
   "execution_count": 123,
   "metadata": {},
   "outputs": [
    {
     "name": "stdout",
     "output_type": "stream",
     "text": [
      "sbj18    История Древнего мира\n",
      "sbj11               Астрономия\n",
      "sbj20         Квантовая физика\n",
      "sbj12           История России\n",
      "sbj19                 Генетика\n",
      "Name: topic_labels, dtype: object\n",
      "sbj26    Финансы и феминизм\n",
      "sbj28          Кинематограф\n",
      "sbj7         Расовая теория\n",
      "Name: topic_labels, dtype: object\n"
     ]
    },
    {
     "data": {
      "text/plain": [
       "pandas.core.frame.DataFrame"
      ]
     },
     "execution_count": 123,
     "metadata": {},
     "output_type": "execute_result"
    }
   ],
   "source": [
    "print(df['topic_labels'][-5:])\n",
    "print(df['topic_labels'][:3])"
   ]
  },
  {
   "cell_type": "markdown",
   "metadata": {},
   "source": [
    "Найдите 5 самых распространенных и 3 наименее освещенных темы в коллекции (наибольшие и наименьшие $p(t)$ соответственно), не считая фоновую и общенаучную. Укажите названия, которые вы дали этим темам."
   ]
  },
  {
   "cell_type": "raw",
   "metadata": {},
   "source": [
    "Ваш ответ:\n",
    "5 тем с max p(t):\n",
    "                    sbj18    История Древнего мира\n",
    "                    sbj11               Астрономия\n",
    "                    sbj20         Квантовая физика\n",
    "                    sbj12           История России\n",
    "                    sbj19                 Генетика\n",
    "3 темы с min p(t):\n",
    "                    sbj26    Финансы и феминизм\n",
    "                    sbj28          Кинематограф\n",
    "                    sbj7         Расовая теория"
   ]
  },
  {
   "cell_type": "markdown",
   "metadata": {},
   "source": [
    "Визуализируйте матрицу $\\Phi$ модальности авторов в виде изображения. Рекомендация: установите yticklabels=False в heatmap."
   ]
  },
  {
   "cell_type": "code",
   "execution_count": 130,
   "metadata": {},
   "outputs": [
    {
     "data": {
      "image/png": "[encoded data removed]",
      "text/plain": [
       "<Figure size 1440x720 with 2 Axes>"
      ]
     },
     "metadata": {},
     "output_type": "display_data"
    }
   ],
   "source": [
    "# Ваш код\n",
    "plt.figure(figsize=(20,10))\n",
    "seaborn.heatmap(phi_a, yticklabels=False)\n",
    "plt.show()"
   ]
  },
  {
   "cell_type": "code",
   "execution_count": 200,
   "metadata": {},
   "outputs": [
    {
     "name": "stdout",
     "output_type": "stream",
     "text": [
      "['Эмиль_Ахмедов', 'Екатерина_Лямина', 'Александр_Филиппов', 'Михаил_Алексеевский', 'Оксана_Запорожец', 'Александр_Воеводский', 'Андрей_Журавлев']\n"
     ]
    },
    {
     "name": "stderr",
     "output_type": "stream",
     "text": [
      "C:\\Users\\User\\anaconda3\\lib\\site-packages\\ipykernel\\ipkernel.py:287: DeprecationWarning: `should_run_async` will not call `transform_cell` automatically in the future. Please pass the result to `transformed_cell` argument and any exception that happen during thetransform in `preprocessing_exc_tuple` in IPython 7.17 and above.\n",
      "  and should_run_async(code)\n"
     ]
    },
    {
     "data": {
      "text/html": [
       "<div>\n",
       "<style scoped>\n",
       "    .dataframe tbody tr th:only-of-type {\n",
       "        vertical-align: middle;\n",
       "    }\n",
       "\n",
       "    .dataframe tbody tr th {\n",
       "        vertical-align: top;\n",
       "    }\n",
       "\n",
       "    .dataframe thead th {\n",
       "        text-align: right;\n",
       "    }\n",
       "</style>\n",
       "<table border=\"1\" class=\"dataframe\">\n",
       "  <thead>\n",
       "    <tr style=\"text-align: right;\">\n",
       "      <th></th>\n",
       "      <th>sbj0</th>\n",
       "      <th>sbj1</th>\n",
       "      <th>sbj2</th>\n",
       "      <th>sbj3</th>\n",
       "      <th>sbj4</th>\n",
       "      <th>sbj5</th>\n",
       "      <th>sbj6</th>\n",
       "      <th>sbj7</th>\n",
       "      <th>sbj8</th>\n",
       "      <th>sbj9</th>\n",
       "      <th>...</th>\n",
       "      <th>sbj21</th>\n",
       "      <th>sbj22</th>\n",
       "      <th>sbj23</th>\n",
       "      <th>sbj24</th>\n",
       "      <th>sbj25</th>\n",
       "      <th>sbj26</th>\n",
       "      <th>sbj27</th>\n",
       "      <th>sbj28</th>\n",
       "      <th>bcg</th>\n",
       "      <th>Significance</th>\n",
       "    </tr>\n",
       "  </thead>\n",
       "  <tbody>\n",
       "    <tr>\n",
       "      <th>Ярослав_Исполатов</th>\n",
       "      <td>0.000000</td>\n",
       "      <td>0.000000e+00</td>\n",
       "      <td>0.0</td>\n",
       "      <td>3.198331e-11</td>\n",
       "      <td>0.00000</td>\n",
       "      <td>0.0</td>\n",
       "      <td>0.0</td>\n",
       "      <td>0.0</td>\n",
       "      <td>0.0</td>\n",
       "      <td>0.000000</td>\n",
       "      <td>...</td>\n",
       "      <td>0.0</td>\n",
       "      <td>0.0</td>\n",
       "      <td>0.0</td>\n",
       "      <td>0.0</td>\n",
       "      <td>0.0</td>\n",
       "      <td>0.0</td>\n",
       "      <td>8.928862e-14</td>\n",
       "      <td>0.0</td>\n",
       "      <td>0.0</td>\n",
       "      <td>1</td>\n",
       "    </tr>\n",
       "    <tr>\n",
       "      <th>Сергей_Демокритов</th>\n",
       "      <td>0.000000</td>\n",
       "      <td>0.000000e+00</td>\n",
       "      <td>0.0</td>\n",
       "      <td>0.000000e+00</td>\n",
       "      <td>0.00000</td>\n",
       "      <td>0.0</td>\n",
       "      <td>0.0</td>\n",
       "      <td>0.0</td>\n",
       "      <td>0.0</td>\n",
       "      <td>0.000000</td>\n",
       "      <td>...</td>\n",
       "      <td>0.0</td>\n",
       "      <td>0.0</td>\n",
       "      <td>0.0</td>\n",
       "      <td>0.0</td>\n",
       "      <td>0.0</td>\n",
       "      <td>0.0</td>\n",
       "      <td>0.000000e+00</td>\n",
       "      <td>0.0</td>\n",
       "      <td>0.0</td>\n",
       "      <td>1</td>\n",
       "    </tr>\n",
       "    <tr>\n",
       "      <th>Руслан_Смелянский</th>\n",
       "      <td>0.000000</td>\n",
       "      <td>0.000000e+00</td>\n",
       "      <td>0.0</td>\n",
       "      <td>0.000000e+00</td>\n",
       "      <td>0.00000</td>\n",
       "      <td>0.0</td>\n",
       "      <td>0.0</td>\n",
       "      <td>0.0</td>\n",
       "      <td>0.0</td>\n",
       "      <td>0.000000</td>\n",
       "      <td>...</td>\n",
       "      <td>0.0</td>\n",
       "      <td>0.0</td>\n",
       "      <td>0.0</td>\n",
       "      <td>0.0</td>\n",
       "      <td>0.0</td>\n",
       "      <td>0.0</td>\n",
       "      <td>0.000000e+00</td>\n",
       "      <td>0.0</td>\n",
       "      <td>0.0</td>\n",
       "      <td>1</td>\n",
       "    </tr>\n",
       "    <tr>\n",
       "      <th>Александр_Апт</th>\n",
       "      <td>0.000000</td>\n",
       "      <td>0.000000e+00</td>\n",
       "      <td>0.0</td>\n",
       "      <td>0.000000e+00</td>\n",
       "      <td>0.00000</td>\n",
       "      <td>0.0</td>\n",
       "      <td>0.0</td>\n",
       "      <td>0.0</td>\n",
       "      <td>0.0</td>\n",
       "      <td>0.046148</td>\n",
       "      <td>...</td>\n",
       "      <td>0.0</td>\n",
       "      <td>0.0</td>\n",
       "      <td>0.0</td>\n",
       "      <td>0.0</td>\n",
       "      <td>0.0</td>\n",
       "      <td>0.0</td>\n",
       "      <td>0.000000e+00</td>\n",
       "      <td>0.0</td>\n",
       "      <td>0.0</td>\n",
       "      <td>1</td>\n",
       "    </tr>\n",
       "    <tr>\n",
       "      <th>Людмила_Новикова</th>\n",
       "      <td>0.000000</td>\n",
       "      <td>0.000000e+00</td>\n",
       "      <td>0.0</td>\n",
       "      <td>0.000000e+00</td>\n",
       "      <td>0.00001</td>\n",
       "      <td>0.0</td>\n",
       "      <td>0.0</td>\n",
       "      <td>0.0</td>\n",
       "      <td>0.0</td>\n",
       "      <td>0.000000</td>\n",
       "      <td>...</td>\n",
       "      <td>0.0</td>\n",
       "      <td>0.0</td>\n",
       "      <td>0.0</td>\n",
       "      <td>0.0</td>\n",
       "      <td>0.0</td>\n",
       "      <td>0.0</td>\n",
       "      <td>0.000000e+00</td>\n",
       "      <td>0.0</td>\n",
       "      <td>0.0</td>\n",
       "      <td>1</td>\n",
       "    </tr>\n",
       "    <tr>\n",
       "      <th>...</th>\n",
       "      <td>...</td>\n",
       "      <td>...</td>\n",
       "      <td>...</td>\n",
       "      <td>...</td>\n",
       "      <td>...</td>\n",
       "      <td>...</td>\n",
       "      <td>...</td>\n",
       "      <td>...</td>\n",
       "      <td>...</td>\n",
       "      <td>...</td>\n",
       "      <td>...</td>\n",
       "      <td>...</td>\n",
       "      <td>...</td>\n",
       "      <td>...</td>\n",
       "      <td>...</td>\n",
       "      <td>...</td>\n",
       "      <td>...</td>\n",
       "      <td>...</td>\n",
       "      <td>...</td>\n",
       "      <td>...</td>\n",
       "      <td>...</td>\n",
       "    </tr>\n",
       "    <tr>\n",
       "      <th>Алексей_Гиппиус</th>\n",
       "      <td>0.000000</td>\n",
       "      <td>0.000000e+00</td>\n",
       "      <td>0.0</td>\n",
       "      <td>0.000000e+00</td>\n",
       "      <td>0.00000</td>\n",
       "      <td>0.0</td>\n",
       "      <td>0.0</td>\n",
       "      <td>0.0</td>\n",
       "      <td>0.0</td>\n",
       "      <td>0.000000</td>\n",
       "      <td>...</td>\n",
       "      <td>0.0</td>\n",
       "      <td>0.0</td>\n",
       "      <td>0.0</td>\n",
       "      <td>0.0</td>\n",
       "      <td>0.0</td>\n",
       "      <td>0.0</td>\n",
       "      <td>0.000000e+00</td>\n",
       "      <td>0.0</td>\n",
       "      <td>0.0</td>\n",
       "      <td>1</td>\n",
       "    </tr>\n",
       "    <tr>\n",
       "      <th>Сергей_Гашков</th>\n",
       "      <td>0.020918</td>\n",
       "      <td>0.000000e+00</td>\n",
       "      <td>0.0</td>\n",
       "      <td>0.000000e+00</td>\n",
       "      <td>0.00000</td>\n",
       "      <td>0.0</td>\n",
       "      <td>0.0</td>\n",
       "      <td>0.0</td>\n",
       "      <td>0.0</td>\n",
       "      <td>0.000000</td>\n",
       "      <td>...</td>\n",
       "      <td>0.0</td>\n",
       "      <td>0.0</td>\n",
       "      <td>0.0</td>\n",
       "      <td>0.0</td>\n",
       "      <td>0.0</td>\n",
       "      <td>0.0</td>\n",
       "      <td>0.000000e+00</td>\n",
       "      <td>0.0</td>\n",
       "      <td>0.0</td>\n",
       "      <td>1</td>\n",
       "    </tr>\n",
       "    <tr>\n",
       "      <th>Джеймс_Коллинз</th>\n",
       "      <td>0.000000</td>\n",
       "      <td>0.000000e+00</td>\n",
       "      <td>0.0</td>\n",
       "      <td>0.000000e+00</td>\n",
       "      <td>0.00000</td>\n",
       "      <td>0.0</td>\n",
       "      <td>0.0</td>\n",
       "      <td>0.0</td>\n",
       "      <td>0.0</td>\n",
       "      <td>0.000000</td>\n",
       "      <td>...</td>\n",
       "      <td>0.0</td>\n",
       "      <td>0.0</td>\n",
       "      <td>0.0</td>\n",
       "      <td>0.0</td>\n",
       "      <td>0.0</td>\n",
       "      <td>0.0</td>\n",
       "      <td>0.000000e+00</td>\n",
       "      <td>0.0</td>\n",
       "      <td>0.0</td>\n",
       "      <td>1</td>\n",
       "    </tr>\n",
       "    <tr>\n",
       "      <th>Роберт_Лэнгер</th>\n",
       "      <td>0.000000</td>\n",
       "      <td>1.588285e-14</td>\n",
       "      <td>0.0</td>\n",
       "      <td>0.000000e+00</td>\n",
       "      <td>0.00000</td>\n",
       "      <td>0.0</td>\n",
       "      <td>0.0</td>\n",
       "      <td>0.0</td>\n",
       "      <td>0.0</td>\n",
       "      <td>0.000000</td>\n",
       "      <td>...</td>\n",
       "      <td>0.0</td>\n",
       "      <td>0.0</td>\n",
       "      <td>0.0</td>\n",
       "      <td>0.0</td>\n",
       "      <td>0.0</td>\n",
       "      <td>0.0</td>\n",
       "      <td>0.000000e+00</td>\n",
       "      <td>0.0</td>\n",
       "      <td>0.0</td>\n",
       "      <td>1</td>\n",
       "    </tr>\n",
       "    <tr>\n",
       "      <th>Олег_Воскобойников</th>\n",
       "      <td>0.000000</td>\n",
       "      <td>0.000000e+00</td>\n",
       "      <td>0.0</td>\n",
       "      <td>0.000000e+00</td>\n",
       "      <td>0.00000</td>\n",
       "      <td>0.0</td>\n",
       "      <td>0.0</td>\n",
       "      <td>0.0</td>\n",
       "      <td>0.0</td>\n",
       "      <td>0.000000</td>\n",
       "      <td>...</td>\n",
       "      <td>0.0</td>\n",
       "      <td>0.0</td>\n",
       "      <td>0.0</td>\n",
       "      <td>0.0</td>\n",
       "      <td>0.0</td>\n",
       "      <td>0.0</td>\n",
       "      <td>0.000000e+00</td>\n",
       "      <td>0.0</td>\n",
       "      <td>0.0</td>\n",
       "      <td>1</td>\n",
       "    </tr>\n",
       "  </tbody>\n",
       "</table>\n",
       "<p>487 rows × 31 columns</p>\n",
       "</div>"
      ],
      "text/plain": [
       "                        sbj0          sbj1  sbj2          sbj3     sbj4  sbj5  \\\n",
       "Ярослав_Исполатов   0.000000  0.000000e+00   0.0  3.198331e-11  0.00000   0.0   \n",
       "Сергей_Демокритов   0.000000  0.000000e+00   0.0  0.000000e+00  0.00000   0.0   \n",
       "Руслан_Смелянский   0.000000  0.000000e+00   0.0  0.000000e+00  0.00000   0.0   \n",
       "Александр_Апт       0.000000  0.000000e+00   0.0  0.000000e+00  0.00000   0.0   \n",
       "Людмила_Новикова    0.000000  0.000000e+00   0.0  0.000000e+00  0.00001   0.0   \n",
       "...                      ...           ...   ...           ...      ...   ...   \n",
       "Алексей_Гиппиус     0.000000  0.000000e+00   0.0  0.000000e+00  0.00000   0.0   \n",
       "Сергей_Гашков       0.020918  0.000000e+00   0.0  0.000000e+00  0.00000   0.0   \n",
       "Джеймс_Коллинз      0.000000  0.000000e+00   0.0  0.000000e+00  0.00000   0.0   \n",
       "Роберт_Лэнгер       0.000000  1.588285e-14   0.0  0.000000e+00  0.00000   0.0   \n",
       "Олег_Воскобойников  0.000000  0.000000e+00   0.0  0.000000e+00  0.00000   0.0   \n",
       "\n",
       "                    sbj6  sbj7  sbj8      sbj9  ...  sbj21  sbj22  sbj23  \\\n",
       "Ярослав_Исполатов    0.0   0.0   0.0  0.000000  ...    0.0    0.0    0.0   \n",
       "Сергей_Демокритов    0.0   0.0   0.0  0.000000  ...    0.0    0.0    0.0   \n",
       "Руслан_Смелянский    0.0   0.0   0.0  0.000000  ...    0.0    0.0    0.0   \n",
       "Александр_Апт        0.0   0.0   0.0  0.046148  ...    0.0    0.0    0.0   \n",
       "Людмила_Новикова     0.0   0.0   0.0  0.000000  ...    0.0    0.0    0.0   \n",
       "...                  ...   ...   ...       ...  ...    ...    ...    ...   \n",
       "Алексей_Гиппиус      0.0   0.0   0.0  0.000000  ...    0.0    0.0    0.0   \n",
       "Сергей_Гашков        0.0   0.0   0.0  0.000000  ...    0.0    0.0    0.0   \n",
       "Джеймс_Коллинз       0.0   0.0   0.0  0.000000  ...    0.0    0.0    0.0   \n",
       "Роберт_Лэнгер        0.0   0.0   0.0  0.000000  ...    0.0    0.0    0.0   \n",
       "Олег_Воскобойников   0.0   0.0   0.0  0.000000  ...    0.0    0.0    0.0   \n",
       "\n",
       "                    sbj24  sbj25  sbj26         sbj27  sbj28  bcg  \\\n",
       "Ярослав_Исполатов     0.0    0.0    0.0  8.928862e-14    0.0  0.0   \n",
       "Сергей_Демокритов     0.0    0.0    0.0  0.000000e+00    0.0  0.0   \n",
       "Руслан_Смелянский     0.0    0.0    0.0  0.000000e+00    0.0  0.0   \n",
       "Александр_Апт         0.0    0.0    0.0  0.000000e+00    0.0  0.0   \n",
       "Людмила_Новикова      0.0    0.0    0.0  0.000000e+00    0.0  0.0   \n",
       "...                   ...    ...    ...           ...    ...  ...   \n",
       "Алексей_Гиппиус       0.0    0.0    0.0  0.000000e+00    0.0  0.0   \n",
       "Сергей_Гашков         0.0    0.0    0.0  0.000000e+00    0.0  0.0   \n",
       "Джеймс_Коллинз        0.0    0.0    0.0  0.000000e+00    0.0  0.0   \n",
       "Роберт_Лэнгер         0.0    0.0    0.0  0.000000e+00    0.0  0.0   \n",
       "Олег_Воскобойников    0.0    0.0    0.0  0.000000e+00    0.0  0.0   \n",
       "\n",
       "                    Significance  \n",
       "Ярослав_Исполатов              1  \n",
       "Сергей_Демокритов              1  \n",
       "Руслан_Смелянский              1  \n",
       "Александр_Апт                  1  \n",
       "Людмила_Новикова               1  \n",
       "...                          ...  \n",
       "Алексей_Гиппиус                1  \n",
       "Сергей_Гашков                  1  \n",
       "Джеймс_Коллинз                 1  \n",
       "Роберт_Лэнгер                  1  \n",
       "Олег_Воскобойников             1  \n",
       "\n",
       "[487 rows x 31 columns]"
      ]
     },
     "execution_count": 200,
     "metadata": {},
     "output_type": "execute_result"
    }
   ],
   "source": [
    "# for line in mini:\n",
    "#     print(line)\n",
    "\n",
    "df = pd.DataFrame(phi_a)\n",
    "authors = phi_a.index\n",
    "best_authors = []\n",
    "\n",
    "Ns = []\n",
    "for i, author in enumerate(authors):\n",
    "    counter = 0\n",
    "    for sbj in topic_names:\n",
    "        if phi_a[sbj][i] > 0.01:\n",
    "            counter += 1\n",
    "    Ns.append(counter)\n",
    "    if counter >= 3:\n",
    "        best_authors.append(author)\n",
    "best_authors\n",
    "df.drop(columns=[0, 'N'], axis=0, inplace=True)\n",
    "df['Significance']=Ns\n",
    "print(best_authors)\n",
    "df"
   ]
  },
  {
   "cell_type": "markdown",
   "metadata": {},
   "source": [
    "Каждой теме соответствует не очень большое число авторов - матрица достаточно разреженная. Кроме того, некоторые темы имеют доминирующего автора $a$, имеющего большую вероятность $p(a|t)$ - этот автор записал больше всего лекций по теме. "
   ]
  },
  {
   "cell_type": "markdown",
   "metadata": {},
   "source": [
    "Будем считать, что автор $a$ значим в теме, если $p(a|t) > 0.01$. Для каждого автора посчитайте, в скольких темах он значим. Найдите авторов-рекордсменов, которые значимы (а значит, читали лекции) в >= 3 темах."
   ]
  },
  {
   "cell_type": "raw",
   "metadata": {},
   "source": [
    "Ваш ответ:\n",
    "авторы, значимые в не менее чем 3 темах: \n",
    "['Эмиль_Ахмедов', 'Екатерина_Лямина', 'Александр_Филиппов', 'Михаил_Алексеевский', 'Оксана_Запорожец', 'Александр_Воеводский', 'Андрей_Журавлев']"
   ]
  },
  {
   "cell_type": "markdown",
   "metadata": {},
   "source": [
    "Большинство авторов значимы в 1 теме, что логично."
   ]
  },
  {
   "cell_type": "markdown",
   "metadata": {},
   "source": [
    "##### Построение тематической карты авторов"
   ]
  },
  {
   "cell_type": "markdown",
   "metadata": {},
   "source": [
    "По сути, в матрице $\\Phi$, соответствующей модальности авторов, записаны тематические кластеры авторов. Для любого автора мы можем составить его тематический круг - авторов, разбирающихся в той же теме, что и данный. Интересующиеся слушатели могут попробовать выполнить эту процедуру для ученых, читающих лекции на Постнауке, которых они знают (например, на Постнауке есть лекции с К. В. Воронцовым - лектором текущего модуля :)\n",
    "\n",
    "Составим карту близости авторов по тематике их исследований. Для этого применим метод понижения размерности MDS к тематическим профилям авторов.\n",
    "\n",
    "Чтобы получить тематический профиль автора, распределение $p(t|a)$, нужно воспользоваться формулой Байеса: \n",
    "$p(t|a) = \\frac {p(a|t) p(t)} {\\sum_t' p(a|t') p(t')}$. Все необходимые для этого величины у вас есть и записаны в переменных phi и pt. \n",
    "\n",
    "Передайте матрицу тематических профилей авторов, записанных по строкам, в метод MDS с n_components=2. Используйте косинусную метрику (она хорошо подходит для поиска расстояний между векторами, имеющими фиксированную сумму компонент)."
   ]
  },
  {
   "cell_type": "code",
   "execution_count": null,
   "metadata": {
    "collapsed": true
   },
   "outputs": [],
   "source": [
    "from sklearn.manifold import MDS\n",
    "from sklearn.metrics import pairwise_distances"
   ]
  },
  {
   "cell_type": "code",
   "execution_count": 223,
   "metadata": {},
   "outputs": [
    {
     "data": {
      "text/html": [
       "<div>\n",
       "<style scoped>\n",
       "    .dataframe tbody tr th:only-of-type {\n",
       "        vertical-align: middle;\n",
       "    }\n",
       "\n",
       "    .dataframe tbody tr th {\n",
       "        vertical-align: top;\n",
       "    }\n",
       "\n",
       "    .dataframe thead th {\n",
       "        text-align: right;\n",
       "    }\n",
       "</style>\n",
       "<table border=\"1\" class=\"dataframe\">\n",
       "  <thead>\n",
       "    <tr style=\"text-align: right;\">\n",
       "      <th></th>\n",
       "      <th>sbj9</th>\n",
       "      <th>sbj10</th>\n",
       "      <th>sbj11</th>\n",
       "      <th>sbj12</th>\n",
       "      <th>sbj13</th>\n",
       "      <th>sbj14</th>\n",
       "      <th>sbj15</th>\n",
       "      <th>sbj16</th>\n",
       "      <th>sbj17</th>\n",
       "      <th>sbj18</th>\n",
       "      <th>sbj19</th>\n",
       "    </tr>\n",
       "  </thead>\n",
       "  <tbody>\n",
       "    <tr>\n",
       "      <th>Ярослав_Исполатов</th>\n",
       "      <td>0.000000</td>\n",
       "      <td>0.017476</td>\n",
       "      <td>0.0</td>\n",
       "      <td>0.000000</td>\n",
       "      <td>0.000000</td>\n",
       "      <td>0.0</td>\n",
       "      <td>0.0</td>\n",
       "      <td>0.0</td>\n",
       "      <td>0.0</td>\n",
       "      <td>0.000000</td>\n",
       "      <td>0.000000</td>\n",
       "    </tr>\n",
       "    <tr>\n",
       "      <th>Сергей_Демокритов</th>\n",
       "      <td>0.000000</td>\n",
       "      <td>0.000000</td>\n",
       "      <td>0.0</td>\n",
       "      <td>0.000000</td>\n",
       "      <td>0.000000</td>\n",
       "      <td>0.0</td>\n",
       "      <td>0.0</td>\n",
       "      <td>0.0</td>\n",
       "      <td>0.0</td>\n",
       "      <td>0.000000</td>\n",
       "      <td>0.000000</td>\n",
       "    </tr>\n",
       "    <tr>\n",
       "      <th>Руслан_Смелянский</th>\n",
       "      <td>0.000000</td>\n",
       "      <td>0.000000</td>\n",
       "      <td>0.0</td>\n",
       "      <td>0.000000</td>\n",
       "      <td>0.000000</td>\n",
       "      <td>0.0</td>\n",
       "      <td>0.0</td>\n",
       "      <td>0.0</td>\n",
       "      <td>0.0</td>\n",
       "      <td>0.000000</td>\n",
       "      <td>0.000000</td>\n",
       "    </tr>\n",
       "    <tr>\n",
       "      <th>Александр_Апт</th>\n",
       "      <td>0.046148</td>\n",
       "      <td>0.000000</td>\n",
       "      <td>0.0</td>\n",
       "      <td>0.000000</td>\n",
       "      <td>0.000000</td>\n",
       "      <td>0.0</td>\n",
       "      <td>0.0</td>\n",
       "      <td>0.0</td>\n",
       "      <td>0.0</td>\n",
       "      <td>0.000000</td>\n",
       "      <td>0.000000</td>\n",
       "    </tr>\n",
       "    <tr>\n",
       "      <th>Людмила_Новикова</th>\n",
       "      <td>0.000000</td>\n",
       "      <td>0.000000</td>\n",
       "      <td>0.0</td>\n",
       "      <td>0.017558</td>\n",
       "      <td>0.000000</td>\n",
       "      <td>0.0</td>\n",
       "      <td>0.0</td>\n",
       "      <td>0.0</td>\n",
       "      <td>0.0</td>\n",
       "      <td>0.000000</td>\n",
       "      <td>0.000000</td>\n",
       "    </tr>\n",
       "    <tr>\n",
       "      <th>...</th>\n",
       "      <td>...</td>\n",
       "      <td>...</td>\n",
       "      <td>...</td>\n",
       "      <td>...</td>\n",
       "      <td>...</td>\n",
       "      <td>...</td>\n",
       "      <td>...</td>\n",
       "      <td>...</td>\n",
       "      <td>...</td>\n",
       "      <td>...</td>\n",
       "      <td>...</td>\n",
       "    </tr>\n",
       "    <tr>\n",
       "      <th>Алексей_Гиппиус</th>\n",
       "      <td>0.000000</td>\n",
       "      <td>0.000000</td>\n",
       "      <td>0.0</td>\n",
       "      <td>0.000000</td>\n",
       "      <td>0.000000</td>\n",
       "      <td>0.0</td>\n",
       "      <td>0.0</td>\n",
       "      <td>0.0</td>\n",
       "      <td>0.0</td>\n",
       "      <td>0.021402</td>\n",
       "      <td>0.000000</td>\n",
       "    </tr>\n",
       "    <tr>\n",
       "      <th>Сергей_Гашков</th>\n",
       "      <td>0.000000</td>\n",
       "      <td>0.000000</td>\n",
       "      <td>0.0</td>\n",
       "      <td>0.000000</td>\n",
       "      <td>0.000000</td>\n",
       "      <td>0.0</td>\n",
       "      <td>0.0</td>\n",
       "      <td>0.0</td>\n",
       "      <td>0.0</td>\n",
       "      <td>0.000000</td>\n",
       "      <td>0.000000</td>\n",
       "    </tr>\n",
       "    <tr>\n",
       "      <th>Джеймс_Коллинз</th>\n",
       "      <td>0.000000</td>\n",
       "      <td>0.000000</td>\n",
       "      <td>0.0</td>\n",
       "      <td>0.000000</td>\n",
       "      <td>0.000000</td>\n",
       "      <td>0.0</td>\n",
       "      <td>0.0</td>\n",
       "      <td>0.0</td>\n",
       "      <td>0.0</td>\n",
       "      <td>0.000000</td>\n",
       "      <td>0.010315</td>\n",
       "    </tr>\n",
       "    <tr>\n",
       "      <th>Роберт_Лэнгер</th>\n",
       "      <td>0.000000</td>\n",
       "      <td>0.000000</td>\n",
       "      <td>0.0</td>\n",
       "      <td>0.000000</td>\n",
       "      <td>0.000000</td>\n",
       "      <td>0.0</td>\n",
       "      <td>0.0</td>\n",
       "      <td>0.0</td>\n",
       "      <td>0.0</td>\n",
       "      <td>0.000000</td>\n",
       "      <td>0.010315</td>\n",
       "    </tr>\n",
       "    <tr>\n",
       "      <th>Олег_Воскобойников</th>\n",
       "      <td>0.000000</td>\n",
       "      <td>0.000000</td>\n",
       "      <td>0.0</td>\n",
       "      <td>0.000000</td>\n",
       "      <td>0.015293</td>\n",
       "      <td>0.0</td>\n",
       "      <td>0.0</td>\n",
       "      <td>0.0</td>\n",
       "      <td>0.0</td>\n",
       "      <td>0.000000</td>\n",
       "      <td>0.000000</td>\n",
       "    </tr>\n",
       "  </tbody>\n",
       "</table>\n",
       "<p>487 rows × 11 columns</p>\n",
       "</div>"
      ],
      "text/plain": [
       "                        sbj9     sbj10  sbj11     sbj12     sbj13  sbj14  \\\n",
       "Ярослав_Исполатов   0.000000  0.017476    0.0  0.000000  0.000000    0.0   \n",
       "Сергей_Демокритов   0.000000  0.000000    0.0  0.000000  0.000000    0.0   \n",
       "Руслан_Смелянский   0.000000  0.000000    0.0  0.000000  0.000000    0.0   \n",
       "Александр_Апт       0.046148  0.000000    0.0  0.000000  0.000000    0.0   \n",
       "Людмила_Новикова    0.000000  0.000000    0.0  0.017558  0.000000    0.0   \n",
       "...                      ...       ...    ...       ...       ...    ...   \n",
       "Алексей_Гиппиус     0.000000  0.000000    0.0  0.000000  0.000000    0.0   \n",
       "Сергей_Гашков       0.000000  0.000000    0.0  0.000000  0.000000    0.0   \n",
       "Джеймс_Коллинз      0.000000  0.000000    0.0  0.000000  0.000000    0.0   \n",
       "Роберт_Лэнгер       0.000000  0.000000    0.0  0.000000  0.000000    0.0   \n",
       "Олег_Воскобойников  0.000000  0.000000    0.0  0.000000  0.015293    0.0   \n",
       "\n",
       "                    sbj15  sbj16  sbj17     sbj18     sbj19  \n",
       "Ярослав_Исполатов     0.0    0.0    0.0  0.000000  0.000000  \n",
       "Сергей_Демокритов     0.0    0.0    0.0  0.000000  0.000000  \n",
       "Руслан_Смелянский     0.0    0.0    0.0  0.000000  0.000000  \n",
       "Александр_Апт         0.0    0.0    0.0  0.000000  0.000000  \n",
       "Людмила_Новикова      0.0    0.0    0.0  0.000000  0.000000  \n",
       "...                   ...    ...    ...       ...       ...  \n",
       "Алексей_Гиппиус       0.0    0.0    0.0  0.021402  0.000000  \n",
       "Сергей_Гашков         0.0    0.0    0.0  0.000000  0.000000  \n",
       "Джеймс_Коллинз        0.0    0.0    0.0  0.000000  0.010315  \n",
       "Роберт_Лэнгер         0.0    0.0    0.0  0.000000  0.010315  \n",
       "Олег_Воскобойников    0.0    0.0    0.0  0.000000  0.000000  \n",
       "\n",
       "[487 rows x 11 columns]"
      ]
     },
     "execution_count": 223,
     "metadata": {},
     "output_type": "execute_result"
    }
   ],
   "source": [
    "# Ваш код\n",
    "# mds = MDS(n_components=2)\n",
    "# phi_a.drop(columns=[0, 'N'], axis=0, inplace=True)\n",
    "\n",
    "# mini = phi_a[['sbj0', 'sbj1', 'sbj2', 'sbj3', 'sbj4', 'sbj5', 'sbj6', 'sbj7', 'sbj8', 'sbj9', 'sbj10', 'sbj11', 'sbj12', 'sbj13']]\n",
    "pat = phi_a/np.sum(phi_a, axis=0)\n",
    "\n",
    "\n",
    "# pt = np/.sum(theta, axis=1)/np.sum(np.sum(theta, axis=1), axis=0)"
   ]
  },
  {
   "cell_type": "markdown",
   "metadata": {},
   "source": [
    "Визуализируйте найденные двумерные представления с помощью функции scatter. "
   ]
  },
  {
   "cell_type": "code",
   "execution_count": 201,
   "metadata": {},
   "outputs": [
    {
     "name": "stderr",
     "output_type": "stream",
     "text": [
      "C:\\Users\\User\\anaconda3\\lib\\site-packages\\ipykernel\\ipkernel.py:287: DeprecationWarning: `should_run_async` will not call `transform_cell` automatically in the future. Please pass the result to `transformed_cell` argument and any exception that happen during thetransform in `preprocessing_exc_tuple` in IPython 7.17 and above.\n",
      "  and should_run_async(code)\n"
     ]
    },
    {
     "data": {
      "text/plain": [
       "sbj0     0.010418\n",
       "sbj1     0.011794\n",
       "sbj2     0.006610\n",
       "sbj3     0.005310\n",
       "sbj4     0.008213\n",
       "sbj5     0.006384\n",
       "sbj6     0.006886\n",
       "sbj7     0.004835\n",
       "sbj8     0.007816\n",
       "sbj9     0.010266\n",
       "sbj10    0.011852\n",
       "sbj11    0.014567\n",
       "sbj12    0.015873\n",
       "sbj13    0.022895\n",
       "sbj14    0.009440\n",
       "sbj15    0.007525\n",
       "sbj16    0.009365\n",
       "sbj17    0.006502\n",
       "sbj18    0.014390\n",
       "sbj19    0.021387\n",
       "sbj20    0.015682\n",
       "sbj21    0.012390\n",
       "sbj22    0.009948\n",
       "sbj23    0.005188\n",
       "sbj24    0.012827\n",
       "sbj25    0.005755\n",
       "sbj26    0.003996\n",
       "sbj27    0.005308\n",
       "sbj28    0.004828\n",
       "bcg      0.711750\n",
       "dtype: float32"
      ]
     },
     "execution_count": 201,
     "metadata": {},
     "output_type": "execute_result"
    }
   ],
   "source": [
    "# Ваш код\n"
   ]
  },
  {
   "cell_type": "markdown",
   "metadata": {},
   "source": [
    "Должно получиться, что некоторые грппы авторов формируют сгустки, которые можно считать тематическими группами авторов.\n",
    "\n",
    "Раскрасим точки следующим образом: для каждого автора выберем наиболее вероятную для него тему ($\\max_t p(t|a)$), и каждой теме сопоставим цвет. Кроме того, добавим на карту имена и фамилии авторов, это можно сделать в цикле по всем точкам с помощью функции plt.annotate, указывая метку точки первым аргументом и ее координаты в аргументе xy. Рекомендуется сделать размер изображения большим, тогда маркеры точек тоже придется увеличить (s=100 в plt.scatter). Изобразите карту авторов и сохраните в pdf-файл с помощью функции plt.savefig. \n",
    "\n",
    "Метки авторов будут пересекаться. Будет очень хорошо, если вы найдете способ, как этого можно избежать."
   ]
  },
  {
   "cell_type": "code",
   "execution_count": null,
   "metadata": {
    "collapsed": true
   },
   "outputs": [],
   "source": [
    "import matplotlib.cm as cm\n",
    "colors = cm.rainbow(np.linspace(0, 1, T)) # цвета для тем\n",
    "# Ваш код\n"
   ]
  },
  {
   "cell_type": "markdown",
   "metadata": {},
   "source": [
    "##### Создание простого тематического навигатора по Постнауке"
   ]
  },
  {
   "cell_type": "markdown",
   "metadata": {},
   "source": [
    "Наш тематический навигатор будет для каждой темы показывать ее список слов, а также список релевантных теме документов. \n",
    "\n",
    "Нам понадобятся распределения $p(d|t)$. По формуле Байеса $p(d|t) = \\frac{p(t|d)p(d)}{\\sum_{d'}p(t|d')p(d')}$, но поскольку мы считаем документы равновероятными, достаточно разделить каждую строку $\\Theta$ на ее сумму, чтобы оценить распределение. \n",
    "\n",
    "Отсортируйте матрицу $p(d|t)$ по убыванию $p(d|t)$ в каждой теме (то есть построчно). Нам понадобятся индексы наиболее вероятных документов в каждой теме, поэтому используйте функцию argmax."
   ]
  },
  {
   "cell_type": "code",
   "execution_count": null,
   "metadata": {
    "collapsed": true
   },
   "outputs": [],
   "source": [
    "# Ваш код\n"
   ]
  },
  {
   "cell_type": "markdown",
   "metadata": {},
   "source": [
    "Создавать навигатор мы будем прямо в jupiter notebook: это возможно благодаря тому факту, что при печати ссылки она автоматически превращается в гиперссылку."
   ]
  },
  {
   "cell_type": "code",
   "execution_count": null,
   "metadata": {},
   "outputs": [],
   "source": [
    "print \"http://yandex.ru\"   # получится кликабельная ссылка"
   ]
  },
  {
   "cell_type": "markdown",
   "metadata": {},
   "source": [
    "Кроме того, подключив модуль [ipython.core.display](https://ipython.org/ipython-doc/2/api/generated/IPython.core.display.html), можно использовать html-разметку в выводе. Например:"
   ]
  },
  {
   "cell_type": "code",
   "execution_count": 1,
   "metadata": {},
   "outputs": [
    {
     "data": {
      "text/html": [
       "<h1>Заголовок</h1>"
      ],
      "text/plain": [
       "<IPython.core.display.HTML object>"
      ]
     },
     "metadata": {},
     "output_type": "display_data"
    },
    {
     "data": {
      "text/html": [
       "<ul><li>Пункт 1</li><li>Пункт 2</li></ul>"
      ],
      "text/plain": [
       "<IPython.core.display.HTML object>"
      ]
     },
     "metadata": {},
     "output_type": "display_data"
    },
    {
     "data": {
      "text/html": [
       "<font color=\"green\">Зеленый!</font>"
      ],
      "text/plain": [
       "<IPython.core.display.HTML object>"
      ]
     },
     "metadata": {},
     "output_type": "display_data"
    },
    {
     "data": {
      "text/html": [
       "<a href=\"http://yandex.ru\">Еще один вариант вывода ссылки</a>"
      ],
      "text/plain": [
       "<IPython.core.display.HTML object>"
      ]
     },
     "metadata": {},
     "output_type": "display_data"
    }
   ],
   "source": [
    "from IPython.core.display import display, HTML\n",
    "display(HTML(u\"<h1>Заголовок</h1>\"))   # также <h2>, <h3>\n",
    "display(HTML(u\"<ul><li>Пункт 1</li><li>Пункт 2</li></ul>\"))\n",
    "display(HTML(u'<font color=\"green\">Зеленый!</font>'))\n",
    "display(HTML(u'<a href=\"http://yandex.ru\">Еще один вариант вывода ссылки</a>'))"
   ]
  },
  {
   "cell_type": "markdown",
   "metadata": {},
   "source": [
    "В цикле для каждой темы выведите ее заголовок, в следующей строке - топ-10 слов темы, затем в виде списка ссылки на 10 наиболее релевантных (по $p(d|t)$) теме документов. Используйте html-разметку. Творчество приветствуется :)"
   ]
  },
  {
   "cell_type": "code",
   "execution_count": null,
   "metadata": {
    "collapsed": true
   },
   "outputs": [],
   "source": [
    "# Ваш код\n"
   ]
  },
  {
   "cell_type": "markdown",
   "metadata": {},
   "source": [
    "##### Заключение"
   ]
  },
  {
   "cell_type": "markdown",
   "metadata": {},
   "source": [
    "В этом Peer Review мы познакомились с базовыми возможностями библиотеки BigARTM и с методами визуализации тематических моделей. Визуализация тематических моделей - это широкая и активно развивающаяся область научных исследований. Мы рассмотрели только самые простые приемы. Желающие могут попробовать применить [Serendip](http://vep.cs.wisc.edu/serendip/#serendipHero), разработанный в  University of Wisconsin-Madison, к построенной модели. Эта библиотека позволяет максимально полно охарактеризовать темы и написана для языка python. \n",
    "\n",
    "Сделав задание, вы можете выбрать в навигаторе наиболее интересную для вас тему и посмотреть видеолекции :) На Постнауке очень много интересных материалов. "
   ]
  }
 ],
 "metadata": {
  "kernelspec": {
   "display_name": "Python 3",
   "language": "python",
   "name": "python3"
  },
  "language_info": {
   "codemirror_mode": {
    "name": "ipython",
    "version": 3
   },
   "file_extension": ".py",
   "mimetype": "text/x-python",
   "name": "python",
   "nbconvert_exporter": "python",
   "pygments_lexer": "ipython3",
   "version": "3.8.8"
  }
 },
 "nbformat": 4,
 "nbformat_minor": 1
}
