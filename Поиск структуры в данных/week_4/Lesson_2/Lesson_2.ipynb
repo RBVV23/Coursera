{
 "cells": [
  {
   "cell_type": "markdown",
   "metadata": {},
   "source": [
    "# Пример использования библиотеки BigARTM для тематического моделирования"
   ]
  },
  {
   "cell_type": "markdown",
   "metadata": {},
   "source": [
    "**BigARTM 0.9.0**"
   ]
  },
  {
   "cell_type": "markdown",
   "metadata": {},
   "source": [
    "Импортируем BigARTM:"
   ]
  },
  {
   "cell_type": "code",
   "execution_count": 1,
   "metadata": {},
   "outputs": [],
   "source": [
    "from matplotlib import pyplot as plt\n",
    "%matplotlib inline"
   ]
  },
  {
   "cell_type": "code",
   "execution_count": 2,
   "metadata": {},
   "outputs": [],
   "source": [
    "import artm"
   ]
  },
  {
   "cell_type": "markdown",
   "metadata": {},
   "source": [
    "Первое считывание данных (преобразуем удобный для человека формат в формат, который использует модель):"
   ]
  },
  {
   "cell_type": "code",
   "execution_count": 310,
   "metadata": {},
   "outputs": [],
   "source": [
    "batch_vectorizer = artm.BatchVectorizer(data_path=\"school.txt\", data_format=\"vowpal_wabbit\", target_folder=\"school_batches\", \n",
    "                                       batch_size=100)"
   ]
  },
  {
   "cell_type": "markdown",
   "metadata": {},
   "source": [
    "В следующий раз данные можно считывать уже из батчей:"
   ]
  },
  {
   "cell_type": "code",
   "execution_count": 323,
   "metadata": {},
   "outputs": [],
   "source": [
    "batch_vectorizer = artm.BatchVectorizer(data_path=\"school_batches\", data_format='batches')"
   ]
  },
  {
   "cell_type": "markdown",
   "metadata": {},
   "source": [
    "Создаем объект модели:"
   ]
  },
  {
   "cell_type": "code",
   "execution_count": 324,
   "metadata": {},
   "outputs": [],
   "source": [
    "T = 10   # количество тем\n",
    "# model_artm = artm.ARTM(num_topics=T, topic_names=[\"sbj\"+str(i) for i in range(T)], class_ids={\"text\":1})\n",
    "# число после названия модальностей - это их веса\n",
    "model_artm = artm.ARTM(num_topics=T, topic_names=[\"sbj\"+str(i) for i in range(T)], class_ids={\"text\":1}, \n",
    "                       num_document_passes=1, reuse_theta=True, cache_theta=True, seed=-1) # поправка на новую версию библиотеки"
   ]
  },
  {
   "cell_type": "code",
   "execution_count": 325,
   "metadata": {},
   "outputs": [],
   "source": [
    "# Поправка на новую версию библиотеки\n",
    "dictionary = artm.Dictionary('dictionary')\n",
    "dictionary.gather(batch_vectorizer.data_path)"
   ]
  },
  {
   "cell_type": "code",
   "execution_count": 326,
   "metadata": {},
   "outputs": [],
   "source": [
    "# model_artm.scores.add(artm.PerplexityScore(name='PerplexityScore',\n",
    "#                                            use_unigram_document_model=False,\n",
    "#                                            dictionary='dictionary')) - выдает ошибку из-за неизвестного параматера se_unigram_document_model\n",
    "model_artm.scores.add(artm.PerplexityScore(name='PerplexityScore', dictionary='dictionary'))\n",
    "model_artm.scores.add(artm.SparsityPhiScore(name='SparsityPhiScore', class_id=\"text\"))\n",
    "model_artm.scores.add(artm.SparsityThetaScore(name='SparsityThetaScore'))\n",
    "model_artm.scores.add(artm.TopTokensScore(name=\"top_words\", num_tokens=15, class_id=\"text\"))"
   ]
  },
  {
   "cell_type": "markdown",
   "metadata": {},
   "source": [
    "Создаем словарь и инициализируем модель с его помощью"
   ]
  },
  {
   "cell_type": "code",
   "execution_count": 327,
   "metadata": {},
   "outputs": [],
   "source": [
    "# model_artm.gather_dictionary('dictionary', batch_vectorizer.data_path)\n",
    "model_artm.initialize('dictionary') # Поправка на новую версию библиотеки\n"
   ]
  },
  {
   "cell_type": "markdown",
   "metadata": {},
   "source": [
    "Строим модель. Offline - проходит по всей коллекции много раз. Удобно, когда коллекция маленькая."
   ]
  },
  {
   "cell_type": "code",
   "execution_count": 328,
   "metadata": {},
   "outputs": [],
   "source": [
    "# model_artm.fit_offline(batch_vectorizer=batch_vectorizer, num_collection_passes=40, num_document_passes=1)\n",
    "model_artm.fit_offline(batch_vectorizer=batch_vectorizer, num_collection_passes=40) # Поправка на новую версию библиотеки"
   ]
  },
  {
   "cell_type": "markdown",
   "metadata": {},
   "source": [
    "Необходимое число итераций можно отслеживать по графику перплексии. Когда она перестала меняться, модель сошлась."
   ]
  },
  {
   "cell_type": "code",
   "execution_count": 329,
   "metadata": {},
   "outputs": [
    {
     "name": "stderr",
     "output_type": "stream",
     "text": [
      "C:\\Users\\User\\anaconda3\\lib\\site-packages\\ipykernel\\ipkernel.py:287: DeprecationWarning: `should_run_async` will not call `transform_cell` automatically in the future. Please pass the result to `transformed_cell` argument and any exception that happen during thetransform in `preprocessing_exc_tuple` in IPython 7.17 and above.\n",
      "  and should_run_async(code)\n"
     ]
    },
    {
     "data": {
      "text/plain": [
       "[<matplotlib.lines.Line2D at 0x26349f720a0>]"
      ]
     },
     "execution_count": 329,
     "metadata": {},
     "output_type": "execute_result"
    },
    {
     "data": {
      "image/png": "[encoded data removed]",
      "text/plain": [
       "<Figure size 432x288 with 1 Axes>"
      ]
     },
     "metadata": {
      "needs_background": "light"
     },
     "output_type": "display_data"
    }
   ],
   "source": [
    "plt.plot(model_artm.score_tracker[\"PerplexityScore\"].value)"
   ]
  },
  {
   "cell_type": "markdown",
   "metadata": {},
   "source": [
    "Выведем топы слов:"
   ]
  },
  {
   "cell_type": "code",
   "execution_count": 330,
   "metadata": {},
   "outputs": [
    {
     "name": "stdout",
     "output_type": "stream",
     "text": [
      "sbj0: \n",
      "\t который быть что это этот человек как свой для они его весь такой время год \n",
      "sbj1: \n",
      "\t y x a многочлен b выражение квадрат множитель скобка умножение функция f целый симметричный разность \n",
      "sbj2: \n",
      "\t обособление куприн слово раскольников мастер роман словосочетание маргарита подчинительный соня вера оборот браслет старик сантьяго \n",
      "sbj3: \n",
      "\t год государство свой время который быть северный война становиться мир россия страна территория африка развитие \n",
      "sbj4: \n",
      "\t x a b уравнение дробь y квадратный степень функция число f корень решение c пример \n",
      "sbj5: \n",
      "\t быть пушкин год свой его империя трение поэт русский характер функция ребенок язык звук существительное \n",
      "sbj6: \n",
      "\t сила тело энергия поле географический наречие частица ядерный заряд величина контур площадь вода вещество экологический \n",
      "sbj7: \n",
      "\t который что быть это как человек для этот такой свой являться мочь себя они весь \n",
      "sbj8: \n",
      "\t быть который что это свой этот как для человек они такой государство весь x являться \n",
      "sbj9: \n",
      "\t который быть что этот это как человек свой для весь такой они его жизнь являться \n"
     ]
    }
   ],
   "source": [
    "for topic_name in model_artm.topic_names:\n",
    "    print(topic_name + ': '),\n",
    "    tokens = model_artm.score_tracker[\"top_words\"].last_tokens # Поправка на новую версию библиотеки\n",
    "    #     for word in model_artm.score_tracker[\"top_words\"].last_topic_info[topic_name].tokens:\n",
    "    line = ''\n",
    "    for word in tokens[topic_name]: # Поправка для более удобного вывода\n",
    "        line += word + ' '\n",
    "#         line.append(' ')\n",
    "#         print(word.rstrip('\\n'))\n",
    "    print('\\t', line)"
   ]
  },
  {
   "cell_type": "markdown",
   "metadata": {},
   "source": [
    "Давайте посмотрим также на разреженность матриц:"
   ]
  },
  {
   "cell_type": "code",
   "execution_count": 331,
   "metadata": {},
   "outputs": [
    {
     "name": "stdout",
     "output_type": "stream",
     "text": [
      "0.732406735420227\n",
      "0.12210526317358017\n"
     ]
    }
   ],
   "source": [
    "print(model_artm.score_tracker[\"SparsityPhiScore\"].last_value)\n",
    "print(model_artm.score_tracker[\"SparsityThetaScore\"].last_value)"
   ]
  },
  {
   "cell_type": "markdown",
   "metadata": {},
   "source": [
    "В темах много общеупотребительных слов (так называемой, фоновой лексики). Чтобы этого избежать, будем использовать разреживающий регуляризатор для матрицы фи. Он будет подавлять слова, которые имеют большую частоту во всей коллекции."
   ]
  },
  {
   "cell_type": "code",
   "execution_count": 332,
   "metadata": {},
   "outputs": [],
   "source": [
    "# model_artm.regularizers.add(artm.SmoothSparsePhiRegularizer(name='SparsePhi', tau=-100, dictionary_name=\"dictionary\"))\n",
    "model_artm.regularizers.add(artm.SmoothSparsePhiRegularizer(name='SparsePhi', tau=-100, dictionary=dictionary)) #поправка на новую версию библиотеки\n",
    "#если вы хотите применять регуляризатор только к некоторым модальностям, указывайте это в параметре class_ids: class_ids=[\"text\"]"
   ]
  },
  {
   "cell_type": "code",
   "execution_count": 333,
   "metadata": {},
   "outputs": [],
   "source": [
    "# model_artm.fit_offline(batch_vectorizer=batch_vectorizer, num_collection_passes=15, num_document_passes=1)\n",
    "model_artm.fit_offline(batch_vectorizer=batch_vectorizer, num_collection_passes=35) #поправка на новую версию библиотеки"
   ]
  },
  {
   "cell_type": "markdown",
   "metadata": {},
   "source": [
    "Попробуем менять коэффициент регуляризации:"
   ]
  },
  {
   "cell_type": "code",
   "execution_count": 269,
   "metadata": {},
   "outputs": [],
   "source": [
    "model_artm.regularizers['SparsePhi'].tau = -5000"
   ]
  },
  {
   "cell_type": "code",
   "execution_count": 270,
   "metadata": {},
   "outputs": [],
   "source": [
    "# model_artm.fit_offline(batch_vectorizer=batch_vectorizer, num_collection_passes=15, num_document_passes=1)\n",
    "model_artm.fit_offline(batch_vectorizer=batch_vectorizer, num_collection_passes=35)"
   ]
  },
  {
   "cell_type": "code",
   "execution_count": 334,
   "metadata": {},
   "outputs": [
    {
     "name": "stderr",
     "output_type": "stream",
     "text": [
      "C:\\Users\\User\\anaconda3\\lib\\site-packages\\ipykernel\\ipkernel.py:287: DeprecationWarning: `should_run_async` will not call `transform_cell` automatically in the future. Please pass the result to `transformed_cell` argument and any exception that happen during thetransform in `preprocessing_exc_tuple` in IPython 7.17 and above.\n",
      "  and should_run_async(code)\n"
     ]
    },
    {
     "name": "stdout",
     "output_type": "stream",
     "text": [
      "sbj0: \n",
      "\t быть который год государство время этот также y x вода для становиться часть территория новый \n",
      "sbj1: \n",
      "deleted\n",
      "sbj2: \n",
      "\t обособление куприн слово раскольников мастер роман словосочетание маргарита подчинительный соня оборот браслет вера управление зависимое \n",
      "sbj3: \n",
      "\t который быть год государство для время этот также страна война территория становиться право весь россия \n",
      "sbj4: \n",
      "\t x a b функция число уравнение корень дробь f y квадратный степень точка получать если \n",
      "sbj5: \n",
      "\t быть пушкин трение год предложение существительное звук империя падеж язык плазма пример are восстание время \n",
      "sbj6: \n",
      "deleted\n",
      "sbj7: \n",
      "\t что который человек это свой как быть его себя этот такой жизнь для мочь она \n",
      "sbj8: \n",
      "\t быть который что это как свой этот человек x для они a такой при его \n",
      "sbj9: \n",
      "\t который быть что этот это человек как свой весь для такой его жизнь они год \n"
     ]
    }
   ],
   "source": [
    "# регуляризация при практически любых значениях уменьшает количество тем\n",
    "\n",
    "for topic_name in model_artm.topic_names:\n",
    "    try:\n",
    "        print(topic_name + ': '),\n",
    "        tokens = model_artm.score_tracker[\"top_words\"].last_tokens\n",
    "    #     for word in model_artm.score_tracker[\"top_words\"].last_topic_info[topic_name].tokens:\n",
    "        line = ''\n",
    "        for word in tokens[topic_name]: # Поправка для более удобного вывода\n",
    "            line += word + ' '\n",
    "    #         line.append(' ')\n",
    "    #         print(word.rstrip('\\n'))\n",
    "        print('\\t', line)\n",
    "    except:\n",
    "        print('deleted')"
   ]
  },
  {
   "cell_type": "code",
   "execution_count": 256,
   "metadata": {},
   "outputs": [
    {
     "name": "stdout",
     "output_type": "stream",
     "text": [
      "0.8032524585723877\n",
      "0.5334736704826355\n"
     ]
    }
   ],
   "source": [
    "# еще раз посмотрим на разреженность\n",
    "print(model_artm.score_tracker[\"SparsityPhiScore\"].last_value)\n",
    "print(model_artm.score_tracker[\"SparsityThetaScore\"].last_value)"
   ]
  },
  {
   "cell_type": "markdown",
   "metadata": {},
   "source": [
    "Обратите внимание, что разреживать модель рекомендуется только после того, как она сошлась без регуляризации."
   ]
  },
  {
   "cell_type": "markdown",
   "metadata": {},
   "source": [
    "Сохранение и загрузка модели:"
   ]
  },
  {
   "cell_type": "code",
   "execution_count": 87,
   "metadata": {},
   "outputs": [],
   "source": [
    "model_artm.save(\"my_model\")"
   ]
  },
  {
   "cell_type": "code",
   "execution_count": 88,
   "metadata": {},
   "outputs": [],
   "source": [
    "model_artm.load(\"my_model\")"
   ]
  },
  {
   "cell_type": "markdown",
   "metadata": {},
   "source": [
    "Можно попросить матрицы в чистом виде:"
   ]
  },
  {
   "cell_type": "code",
   "execution_count": 89,
   "metadata": {},
   "outputs": [],
   "source": [
    "phi = model_artm.get_phi()"
   ]
  },
  {
   "cell_type": "code",
   "execution_count": 90,
   "metadata": {},
   "outputs": [
    {
     "data": {
      "text/html": [
       "<div>\n",
       "<style scoped>\n",
       "    .dataframe tbody tr th:only-of-type {\n",
       "        vertical-align: middle;\n",
       "    }\n",
       "\n",
       "    .dataframe tbody tr th {\n",
       "        vertical-align: top;\n",
       "    }\n",
       "\n",
       "    .dataframe thead th {\n",
       "        text-align: right;\n",
       "    }\n",
       "</style>\n",
       "<table border=\"1\" class=\"dataframe\">\n",
       "  <thead>\n",
       "    <tr style=\"text-align: right;\">\n",
       "      <th></th>\n",
       "      <th>sbj0</th>\n",
       "      <th>sbj1</th>\n",
       "      <th>sbj2</th>\n",
       "      <th>sbj3</th>\n",
       "      <th>sbj4</th>\n",
       "      <th>sbj5</th>\n",
       "      <th>sbj6</th>\n",
       "      <th>sbj7</th>\n",
       "      <th>sbj8</th>\n",
       "      <th>sbj9</th>\n",
       "    </tr>\n",
       "  </thead>\n",
       "  <tbody>\n",
       "    <tr>\n",
       "      <th>домохозяйка</th>\n",
       "      <td>0.0</td>\n",
       "      <td>0.0</td>\n",
       "      <td>0.0</td>\n",
       "      <td>0.000000</td>\n",
       "      <td>0.0</td>\n",
       "      <td>0.000000</td>\n",
       "      <td>0.0</td>\n",
       "      <td>0.000000</td>\n",
       "      <td>0.0</td>\n",
       "      <td>0.000020</td>\n",
       "    </tr>\n",
       "    <tr>\n",
       "      <th>институт</th>\n",
       "      <td>0.0</td>\n",
       "      <td>0.0</td>\n",
       "      <td>0.0</td>\n",
       "      <td>0.000774</td>\n",
       "      <td>0.0</td>\n",
       "      <td>0.000000</td>\n",
       "      <td>0.0</td>\n",
       "      <td>0.000254</td>\n",
       "      <td>0.0</td>\n",
       "      <td>0.000081</td>\n",
       "    </tr>\n",
       "    <tr>\n",
       "      <th>машинка</th>\n",
       "      <td>0.0</td>\n",
       "      <td>0.0</td>\n",
       "      <td>0.0</td>\n",
       "      <td>0.000000</td>\n",
       "      <td>0.0</td>\n",
       "      <td>0.000127</td>\n",
       "      <td>0.0</td>\n",
       "      <td>0.000000</td>\n",
       "      <td>0.0</td>\n",
       "      <td>0.000000</td>\n",
       "    </tr>\n",
       "    <tr>\n",
       "      <th>прочий</th>\n",
       "      <td>0.0</td>\n",
       "      <td>0.0</td>\n",
       "      <td>0.0</td>\n",
       "      <td>0.000000</td>\n",
       "      <td>0.0</td>\n",
       "      <td>0.000054</td>\n",
       "      <td>0.0</td>\n",
       "      <td>0.000151</td>\n",
       "      <td>0.0</td>\n",
       "      <td>0.000074</td>\n",
       "    </tr>\n",
       "    <tr>\n",
       "      <th>навязнуть</th>\n",
       "      <td>0.0</td>\n",
       "      <td>0.0</td>\n",
       "      <td>0.0</td>\n",
       "      <td>0.000000</td>\n",
       "      <td>0.0</td>\n",
       "      <td>0.000127</td>\n",
       "      <td>0.0</td>\n",
       "      <td>0.000039</td>\n",
       "      <td>0.0</td>\n",
       "      <td>0.000000</td>\n",
       "    </tr>\n",
       "    <tr>\n",
       "      <th>...</th>\n",
       "      <td>...</td>\n",
       "      <td>...</td>\n",
       "      <td>...</td>\n",
       "      <td>...</td>\n",
       "      <td>...</td>\n",
       "      <td>...</td>\n",
       "      <td>...</td>\n",
       "      <td>...</td>\n",
       "      <td>...</td>\n",
       "      <td>...</td>\n",
       "    </tr>\n",
       "    <tr>\n",
       "      <th>монблан</th>\n",
       "      <td>0.0</td>\n",
       "      <td>0.0</td>\n",
       "      <td>0.0</td>\n",
       "      <td>0.000000</td>\n",
       "      <td>0.0</td>\n",
       "      <td>0.000127</td>\n",
       "      <td>0.0</td>\n",
       "      <td>0.000000</td>\n",
       "      <td>0.0</td>\n",
       "      <td>0.000000</td>\n",
       "    </tr>\n",
       "    <tr>\n",
       "      <th>гарон</th>\n",
       "      <td>0.0</td>\n",
       "      <td>0.0</td>\n",
       "      <td>0.0</td>\n",
       "      <td>0.000000</td>\n",
       "      <td>0.0</td>\n",
       "      <td>0.000127</td>\n",
       "      <td>0.0</td>\n",
       "      <td>0.000000</td>\n",
       "      <td>0.0</td>\n",
       "      <td>0.000000</td>\n",
       "    </tr>\n",
       "    <tr>\n",
       "      <th>аист</th>\n",
       "      <td>0.0</td>\n",
       "      <td>0.0</td>\n",
       "      <td>0.0</td>\n",
       "      <td>0.000000</td>\n",
       "      <td>0.0</td>\n",
       "      <td>0.000127</td>\n",
       "      <td>0.0</td>\n",
       "      <td>0.000000</td>\n",
       "      <td>0.0</td>\n",
       "      <td>0.000000</td>\n",
       "    </tr>\n",
       "    <tr>\n",
       "      <th>корсиканский</th>\n",
       "      <td>0.0</td>\n",
       "      <td>0.0</td>\n",
       "      <td>0.0</td>\n",
       "      <td>0.000000</td>\n",
       "      <td>0.0</td>\n",
       "      <td>0.000127</td>\n",
       "      <td>0.0</td>\n",
       "      <td>0.000000</td>\n",
       "      <td>0.0</td>\n",
       "      <td>0.000000</td>\n",
       "    </tr>\n",
       "    <tr>\n",
       "      <th>серна</th>\n",
       "      <td>0.0</td>\n",
       "      <td>0.0</td>\n",
       "      <td>0.0</td>\n",
       "      <td>0.000000</td>\n",
       "      <td>0.0</td>\n",
       "      <td>0.000127</td>\n",
       "      <td>0.0</td>\n",
       "      <td>0.000000</td>\n",
       "      <td>0.0</td>\n",
       "      <td>0.000000</td>\n",
       "    </tr>\n",
       "  </tbody>\n",
       "</table>\n",
       "<p>16080 rows × 10 columns</p>\n",
       "</div>"
      ],
      "text/plain": [
       "              sbj0  sbj1  sbj2      sbj3  sbj4      sbj5  sbj6      sbj7  \\\n",
       "домохозяйка    0.0   0.0   0.0  0.000000   0.0  0.000000   0.0  0.000000   \n",
       "институт       0.0   0.0   0.0  0.000774   0.0  0.000000   0.0  0.000254   \n",
       "машинка        0.0   0.0   0.0  0.000000   0.0  0.000127   0.0  0.000000   \n",
       "прочий         0.0   0.0   0.0  0.000000   0.0  0.000054   0.0  0.000151   \n",
       "навязнуть      0.0   0.0   0.0  0.000000   0.0  0.000127   0.0  0.000039   \n",
       "...            ...   ...   ...       ...   ...       ...   ...       ...   \n",
       "монблан        0.0   0.0   0.0  0.000000   0.0  0.000127   0.0  0.000000   \n",
       "гарон          0.0   0.0   0.0  0.000000   0.0  0.000127   0.0  0.000000   \n",
       "аист           0.0   0.0   0.0  0.000000   0.0  0.000127   0.0  0.000000   \n",
       "корсиканский   0.0   0.0   0.0  0.000000   0.0  0.000127   0.0  0.000000   \n",
       "серна          0.0   0.0   0.0  0.000000   0.0  0.000127   0.0  0.000000   \n",
       "\n",
       "              sbj8      sbj9  \n",
       "домохозяйка    0.0  0.000020  \n",
       "институт       0.0  0.000081  \n",
       "машинка        0.0  0.000000  \n",
       "прочий         0.0  0.000074  \n",
       "навязнуть      0.0  0.000000  \n",
       "...            ...       ...  \n",
       "монблан        0.0  0.000000  \n",
       "гарон          0.0  0.000000  \n",
       "аист           0.0  0.000000  \n",
       "корсиканский   0.0  0.000000  \n",
       "серна          0.0  0.000000  \n",
       "\n",
       "[16080 rows x 10 columns]"
      ]
     },
     "execution_count": 90,
     "metadata": {},
     "output_type": "execute_result"
    }
   ],
   "source": [
    "phi"
   ]
  },
  {
   "cell_type": "markdown",
   "metadata": {},
   "source": [
    "Матрица вероятностей тем в документах."
   ]
  },
  {
   "cell_type": "code",
   "execution_count": 91,
   "metadata": {},
   "outputs": [
    {
     "name": "stderr",
     "output_type": "stream",
     "text": [
      "C:\\Users\\User\\anaconda3\\lib\\site-packages\\ipykernel\\ipkernel.py:287: DeprecationWarning: `should_run_async` will not call `transform_cell` automatically in the future. Please pass the result to `transformed_cell` argument and any exception that happen during thetransform in `preprocessing_exc_tuple` in IPython 7.17 and above.\n",
      "  and should_run_async(code)\n"
     ]
    },
    {
     "data": {
      "text/html": [
       "<div>\n",
       "<style scoped>\n",
       "    .dataframe tbody tr th:only-of-type {\n",
       "        vertical-align: middle;\n",
       "    }\n",
       "\n",
       "    .dataframe tbody tr th {\n",
       "        vertical-align: top;\n",
       "    }\n",
       "\n",
       "    .dataframe thead th {\n",
       "        text-align: right;\n",
       "    }\n",
       "</style>\n",
       "<table border=\"1\" class=\"dataframe\">\n",
       "  <thead>\n",
       "    <tr style=\"text-align: right;\">\n",
       "      <th></th>\n",
       "      <th>300</th>\n",
       "      <th>301</th>\n",
       "      <th>302</th>\n",
       "      <th>303</th>\n",
       "      <th>304</th>\n",
       "      <th>305</th>\n",
       "      <th>306</th>\n",
       "      <th>307</th>\n",
       "      <th>308</th>\n",
       "      <th>309</th>\n",
       "      <th>...</th>\n",
       "      <th>465</th>\n",
       "      <th>466</th>\n",
       "      <th>467</th>\n",
       "      <th>468</th>\n",
       "      <th>469</th>\n",
       "      <th>470</th>\n",
       "      <th>471</th>\n",
       "      <th>472</th>\n",
       "      <th>473</th>\n",
       "      <th>474</th>\n",
       "    </tr>\n",
       "  </thead>\n",
       "  <tbody>\n",
       "    <tr>\n",
       "      <th>sbj0</th>\n",
       "      <td>4.209783e-01</td>\n",
       "      <td>6.100255e-01</td>\n",
       "      <td>5.797764e-01</td>\n",
       "      <td>7.854363e-01</td>\n",
       "      <td>2.680998e-01</td>\n",
       "      <td>6.406094e-01</td>\n",
       "      <td>4.594850e-01</td>\n",
       "      <td>4.595666e-01</td>\n",
       "      <td>4.538815e-01</td>\n",
       "      <td>6.996035e-01</td>\n",
       "      <td>...</td>\n",
       "      <td>7.333767e-09</td>\n",
       "      <td>0.026379</td>\n",
       "      <td>1.150085e-08</td>\n",
       "      <td>1.559004e-08</td>\n",
       "      <td>1.159393e-08</td>\n",
       "      <td>9.221892e-09</td>\n",
       "      <td>7.240455e-09</td>\n",
       "      <td>1.352665e-08</td>\n",
       "      <td>0.013937</td>\n",
       "      <td>0.008224</td>\n",
       "    </tr>\n",
       "    <tr>\n",
       "      <th>sbj1</th>\n",
       "      <td>0.000000e+00</td>\n",
       "      <td>0.000000e+00</td>\n",
       "      <td>0.000000e+00</td>\n",
       "      <td>0.000000e+00</td>\n",
       "      <td>0.000000e+00</td>\n",
       "      <td>0.000000e+00</td>\n",
       "      <td>0.000000e+00</td>\n",
       "      <td>0.000000e+00</td>\n",
       "      <td>0.000000e+00</td>\n",
       "      <td>0.000000e+00</td>\n",
       "      <td>...</td>\n",
       "      <td>0.000000e+00</td>\n",
       "      <td>0.000000</td>\n",
       "      <td>0.000000e+00</td>\n",
       "      <td>0.000000e+00</td>\n",
       "      <td>0.000000e+00</td>\n",
       "      <td>0.000000e+00</td>\n",
       "      <td>0.000000e+00</td>\n",
       "      <td>0.000000e+00</td>\n",
       "      <td>0.000000</td>\n",
       "      <td>0.000000</td>\n",
       "    </tr>\n",
       "    <tr>\n",
       "      <th>sbj2</th>\n",
       "      <td>0.000000e+00</td>\n",
       "      <td>0.000000e+00</td>\n",
       "      <td>0.000000e+00</td>\n",
       "      <td>0.000000e+00</td>\n",
       "      <td>0.000000e+00</td>\n",
       "      <td>5.107085e-12</td>\n",
       "      <td>0.000000e+00</td>\n",
       "      <td>1.224490e-02</td>\n",
       "      <td>0.000000e+00</td>\n",
       "      <td>3.389670e-12</td>\n",
       "      <td>...</td>\n",
       "      <td>0.000000e+00</td>\n",
       "      <td>0.000000</td>\n",
       "      <td>0.000000e+00</td>\n",
       "      <td>0.000000e+00</td>\n",
       "      <td>0.000000e+00</td>\n",
       "      <td>0.000000e+00</td>\n",
       "      <td>0.000000e+00</td>\n",
       "      <td>0.000000e+00</td>\n",
       "      <td>0.000000</td>\n",
       "      <td>0.000000</td>\n",
       "    </tr>\n",
       "    <tr>\n",
       "      <th>sbj3</th>\n",
       "      <td>1.073481e-07</td>\n",
       "      <td>1.123213e-07</td>\n",
       "      <td>6.462004e-08</td>\n",
       "      <td>1.890640e-07</td>\n",
       "      <td>8.045204e-08</td>\n",
       "      <td>6.436457e-08</td>\n",
       "      <td>1.488154e-07</td>\n",
       "      <td>9.051215e-08</td>\n",
       "      <td>6.887852e-08</td>\n",
       "      <td>1.387877e-07</td>\n",
       "      <td>...</td>\n",
       "      <td>0.000000e+00</td>\n",
       "      <td>0.000000</td>\n",
       "      <td>0.000000e+00</td>\n",
       "      <td>0.000000e+00</td>\n",
       "      <td>0.000000e+00</td>\n",
       "      <td>0.000000e+00</td>\n",
       "      <td>0.000000e+00</td>\n",
       "      <td>0.000000e+00</td>\n",
       "      <td>0.000000</td>\n",
       "      <td>0.000000</td>\n",
       "    </tr>\n",
       "    <tr>\n",
       "      <th>sbj4</th>\n",
       "      <td>0.000000e+00</td>\n",
       "      <td>0.000000e+00</td>\n",
       "      <td>0.000000e+00</td>\n",
       "      <td>0.000000e+00</td>\n",
       "      <td>0.000000e+00</td>\n",
       "      <td>0.000000e+00</td>\n",
       "      <td>0.000000e+00</td>\n",
       "      <td>0.000000e+00</td>\n",
       "      <td>0.000000e+00</td>\n",
       "      <td>0.000000e+00</td>\n",
       "      <td>...</td>\n",
       "      <td>1.706600e-02</td>\n",
       "      <td>0.065020</td>\n",
       "      <td>7.031221e-03</td>\n",
       "      <td>5.325645e-03</td>\n",
       "      <td>7.102972e-03</td>\n",
       "      <td>2.265282e-02</td>\n",
       "      <td>3.761412e-03</td>\n",
       "      <td>7.198858e-03</td>\n",
       "      <td>0.006215</td>\n",
       "      <td>0.011645</td>\n",
       "    </tr>\n",
       "    <tr>\n",
       "      <th>sbj5</th>\n",
       "      <td>0.000000e+00</td>\n",
       "      <td>0.000000e+00</td>\n",
       "      <td>0.000000e+00</td>\n",
       "      <td>0.000000e+00</td>\n",
       "      <td>0.000000e+00</td>\n",
       "      <td>0.000000e+00</td>\n",
       "      <td>0.000000e+00</td>\n",
       "      <td>0.000000e+00</td>\n",
       "      <td>0.000000e+00</td>\n",
       "      <td>0.000000e+00</td>\n",
       "      <td>...</td>\n",
       "      <td>1.503334e-01</td>\n",
       "      <td>0.196364</td>\n",
       "      <td>1.960197e-01</td>\n",
       "      <td>1.565381e-01</td>\n",
       "      <td>1.563663e-01</td>\n",
       "      <td>3.869907e-01</td>\n",
       "      <td>1.930677e-01</td>\n",
       "      <td>1.951245e-01</td>\n",
       "      <td>0.042087</td>\n",
       "      <td>0.283261</td>\n",
       "    </tr>\n",
       "    <tr>\n",
       "      <th>sbj6</th>\n",
       "      <td>0.000000e+00</td>\n",
       "      <td>0.000000e+00</td>\n",
       "      <td>0.000000e+00</td>\n",
       "      <td>0.000000e+00</td>\n",
       "      <td>0.000000e+00</td>\n",
       "      <td>0.000000e+00</td>\n",
       "      <td>0.000000e+00</td>\n",
       "      <td>0.000000e+00</td>\n",
       "      <td>0.000000e+00</td>\n",
       "      <td>0.000000e+00</td>\n",
       "      <td>...</td>\n",
       "      <td>0.000000e+00</td>\n",
       "      <td>0.000000</td>\n",
       "      <td>0.000000e+00</td>\n",
       "      <td>0.000000e+00</td>\n",
       "      <td>0.000000e+00</td>\n",
       "      <td>0.000000e+00</td>\n",
       "      <td>0.000000e+00</td>\n",
       "      <td>0.000000e+00</td>\n",
       "      <td>0.000000</td>\n",
       "      <td>0.000000</td>\n",
       "    </tr>\n",
       "    <tr>\n",
       "      <th>sbj7</th>\n",
       "      <td>5.790167e-01</td>\n",
       "      <td>3.899702e-01</td>\n",
       "      <td>4.202179e-01</td>\n",
       "      <td>2.145601e-01</td>\n",
       "      <td>7.318957e-01</td>\n",
       "      <td>3.526226e-01</td>\n",
       "      <td>5.405104e-01</td>\n",
       "      <td>5.281829e-01</td>\n",
       "      <td>5.461140e-01</td>\n",
       "      <td>3.003889e-01</td>\n",
       "      <td>...</td>\n",
       "      <td>2.425043e-08</td>\n",
       "      <td>0.007562</td>\n",
       "      <td>1.357439e-08</td>\n",
       "      <td>8.900320e-09</td>\n",
       "      <td>3.157238e-08</td>\n",
       "      <td>1.986711e-08</td>\n",
       "      <td>4.761455e-08</td>\n",
       "      <td>1.586200e-08</td>\n",
       "      <td>0.002839</td>\n",
       "      <td>0.000010</td>\n",
       "    </tr>\n",
       "    <tr>\n",
       "      <th>sbj8</th>\n",
       "      <td>4.648559e-06</td>\n",
       "      <td>3.886429e-06</td>\n",
       "      <td>5.428724e-06</td>\n",
       "      <td>3.245995e-06</td>\n",
       "      <td>4.249526e-06</td>\n",
       "      <td>6.695698e-03</td>\n",
       "      <td>4.249527e-06</td>\n",
       "      <td>5.319924e-06</td>\n",
       "      <td>4.225755e-06</td>\n",
       "      <td>7.079225e-06</td>\n",
       "      <td>...</td>\n",
       "      <td>3.462463e-06</td>\n",
       "      <td>0.090124</td>\n",
       "      <td>1.932518e-06</td>\n",
       "      <td>1.976238e-06</td>\n",
       "      <td>3.046918e-06</td>\n",
       "      <td>3.244833e-06</td>\n",
       "      <td>2.758655e-06</td>\n",
       "      <td>2.041036e-06</td>\n",
       "      <td>0.061221</td>\n",
       "      <td>0.010947</td>\n",
       "    </tr>\n",
       "    <tr>\n",
       "      <th>sbj9</th>\n",
       "      <td>1.523704e-07</td>\n",
       "      <td>1.767926e-07</td>\n",
       "      <td>1.764227e-07</td>\n",
       "      <td>2.045440e-07</td>\n",
       "      <td>1.624989e-07</td>\n",
       "      <td>7.206220e-05</td>\n",
       "      <td>1.896655e-07</td>\n",
       "      <td>2.048736e-07</td>\n",
       "      <td>1.413496e-07</td>\n",
       "      <td>3.003219e-07</td>\n",
       "      <td>...</td>\n",
       "      <td>8.325971e-01</td>\n",
       "      <td>0.614552</td>\n",
       "      <td>7.969472e-01</td>\n",
       "      <td>8.381342e-01</td>\n",
       "      <td>8.365276e-01</td>\n",
       "      <td>5.903532e-01</td>\n",
       "      <td>8.031681e-01</td>\n",
       "      <td>7.976745e-01</td>\n",
       "      <td>0.873701</td>\n",
       "      <td>0.685913</td>\n",
       "    </tr>\n",
       "  </tbody>\n",
       "</table>\n",
       "<p>10 rows × 475 columns</p>\n",
       "</div>"
      ],
      "text/plain": [
       "               300           301           302           303           304  \\\n",
       "sbj0  4.209783e-01  6.100255e-01  5.797764e-01  7.854363e-01  2.680998e-01   \n",
       "sbj1  0.000000e+00  0.000000e+00  0.000000e+00  0.000000e+00  0.000000e+00   \n",
       "sbj2  0.000000e+00  0.000000e+00  0.000000e+00  0.000000e+00  0.000000e+00   \n",
       "sbj3  1.073481e-07  1.123213e-07  6.462004e-08  1.890640e-07  8.045204e-08   \n",
       "sbj4  0.000000e+00  0.000000e+00  0.000000e+00  0.000000e+00  0.000000e+00   \n",
       "sbj5  0.000000e+00  0.000000e+00  0.000000e+00  0.000000e+00  0.000000e+00   \n",
       "sbj6  0.000000e+00  0.000000e+00  0.000000e+00  0.000000e+00  0.000000e+00   \n",
       "sbj7  5.790167e-01  3.899702e-01  4.202179e-01  2.145601e-01  7.318957e-01   \n",
       "sbj8  4.648559e-06  3.886429e-06  5.428724e-06  3.245995e-06  4.249526e-06   \n",
       "sbj9  1.523704e-07  1.767926e-07  1.764227e-07  2.045440e-07  1.624989e-07   \n",
       "\n",
       "               305           306           307           308           309  \\\n",
       "sbj0  6.406094e-01  4.594850e-01  4.595666e-01  4.538815e-01  6.996035e-01   \n",
       "sbj1  0.000000e+00  0.000000e+00  0.000000e+00  0.000000e+00  0.000000e+00   \n",
       "sbj2  5.107085e-12  0.000000e+00  1.224490e-02  0.000000e+00  3.389670e-12   \n",
       "sbj3  6.436457e-08  1.488154e-07  9.051215e-08  6.887852e-08  1.387877e-07   \n",
       "sbj4  0.000000e+00  0.000000e+00  0.000000e+00  0.000000e+00  0.000000e+00   \n",
       "sbj5  0.000000e+00  0.000000e+00  0.000000e+00  0.000000e+00  0.000000e+00   \n",
       "sbj6  0.000000e+00  0.000000e+00  0.000000e+00  0.000000e+00  0.000000e+00   \n",
       "sbj7  3.526226e-01  5.405104e-01  5.281829e-01  5.461140e-01  3.003889e-01   \n",
       "sbj8  6.695698e-03  4.249527e-06  5.319924e-06  4.225755e-06  7.079225e-06   \n",
       "sbj9  7.206220e-05  1.896655e-07  2.048736e-07  1.413496e-07  3.003219e-07   \n",
       "\n",
       "      ...           465       466           467           468           469  \\\n",
       "sbj0  ...  7.333767e-09  0.026379  1.150085e-08  1.559004e-08  1.159393e-08   \n",
       "sbj1  ...  0.000000e+00  0.000000  0.000000e+00  0.000000e+00  0.000000e+00   \n",
       "sbj2  ...  0.000000e+00  0.000000  0.000000e+00  0.000000e+00  0.000000e+00   \n",
       "sbj3  ...  0.000000e+00  0.000000  0.000000e+00  0.000000e+00  0.000000e+00   \n",
       "sbj4  ...  1.706600e-02  0.065020  7.031221e-03  5.325645e-03  7.102972e-03   \n",
       "sbj5  ...  1.503334e-01  0.196364  1.960197e-01  1.565381e-01  1.563663e-01   \n",
       "sbj6  ...  0.000000e+00  0.000000  0.000000e+00  0.000000e+00  0.000000e+00   \n",
       "sbj7  ...  2.425043e-08  0.007562  1.357439e-08  8.900320e-09  3.157238e-08   \n",
       "sbj8  ...  3.462463e-06  0.090124  1.932518e-06  1.976238e-06  3.046918e-06   \n",
       "sbj9  ...  8.325971e-01  0.614552  7.969472e-01  8.381342e-01  8.365276e-01   \n",
       "\n",
       "               470           471           472       473       474  \n",
       "sbj0  9.221892e-09  7.240455e-09  1.352665e-08  0.013937  0.008224  \n",
       "sbj1  0.000000e+00  0.000000e+00  0.000000e+00  0.000000  0.000000  \n",
       "sbj2  0.000000e+00  0.000000e+00  0.000000e+00  0.000000  0.000000  \n",
       "sbj3  0.000000e+00  0.000000e+00  0.000000e+00  0.000000  0.000000  \n",
       "sbj4  2.265282e-02  3.761412e-03  7.198858e-03  0.006215  0.011645  \n",
       "sbj5  3.869907e-01  1.930677e-01  1.951245e-01  0.042087  0.283261  \n",
       "sbj6  0.000000e+00  0.000000e+00  0.000000e+00  0.000000  0.000000  \n",
       "sbj7  1.986711e-08  4.761455e-08  1.586200e-08  0.002839  0.000010  \n",
       "sbj8  3.244833e-06  2.758655e-06  2.041036e-06  0.061221  0.010947  \n",
       "sbj9  5.903532e-01  8.031681e-01  7.976745e-01  0.873701  0.685913  \n",
       "\n",
       "[10 rows x 475 columns]"
      ]
     },
     "execution_count": 91,
     "metadata": {},
     "output_type": "execute_result"
    }
   ],
   "source": [
    "theta = model_artm.get_theta()\n",
    "theta"
   ]
  },
  {
   "cell_type": "markdown",
   "metadata": {},
   "source": [
    "Если бы у нас были новые батчи, по которым мы не строим модель, а хотим только получить матрицу theta, можно пользоваться методом transform."
   ]
  },
  {
   "cell_type": "code",
   "execution_count": 92,
   "metadata": {},
   "outputs": [
    {
     "name": "stderr",
     "output_type": "stream",
     "text": [
      "C:\\Users\\User\\anaconda3\\lib\\site-packages\\ipykernel\\ipkernel.py:287: DeprecationWarning: `should_run_async` will not call `transform_cell` automatically in the future. Please pass the result to `transformed_cell` argument and any exception that happen during thetransform in `preprocessing_exc_tuple` in IPython 7.17 and above.\n",
      "  and should_run_async(code)\n"
     ]
    },
    {
     "ename": "TypeError",
     "evalue": "transform() got an unexpected keyword argument 'num_document_passes'",
     "output_type": "error",
     "traceback": [
      "\u001b[1;31m---------------------------------------------------------------------------\u001b[0m",
      "\u001b[1;31mTypeError\u001b[0m                                 Traceback (most recent call last)",
      "\u001b[1;32m<ipython-input-92-00080b1036d4>\u001b[0m in \u001b[0;36m<module>\u001b[1;34m\u001b[0m\n\u001b[1;32m----> 1\u001b[1;33m \u001b[0mtheta_test\u001b[0m \u001b[1;33m=\u001b[0m \u001b[0mmodel_artm\u001b[0m\u001b[1;33m.\u001b[0m\u001b[0mtransform\u001b[0m\u001b[1;33m(\u001b[0m\u001b[0mbatch_vectorizer\u001b[0m\u001b[1;33m,\u001b[0m \u001b[0mnum_document_passes\u001b[0m\u001b[1;33m=\u001b[0m\u001b[1;36m10\u001b[0m\u001b[1;33m)\u001b[0m\u001b[1;33m\u001b[0m\u001b[1;33m\u001b[0m\u001b[0m\n\u001b[0m",
      "\u001b[1;31mTypeError\u001b[0m: transform() got an unexpected keyword argument 'num_document_passes'"
     ]
    }
   ],
   "source": [
    "# theta_test = model_artm.transform(batch_vectorizer, num_document_passes=10) - неизвестный параметр num_document_passes\n",
    "theta_test = model_artm.transform(batch_vectorizer)"
   ]
  },
  {
   "cell_type": "code",
   "execution_count": null,
   "metadata": {},
   "outputs": [],
   "source": []
  }
 ],
 "metadata": {
  "kernelspec": {
   "display_name": "Python 3",
   "language": "python",
   "name": "python3"
  },
  "language_info": {
   "codemirror_mode": {
    "name": "ipython",
    "version": 3
   },
   "file_extension": ".py",
   "mimetype": "text/x-python",
   "name": "python",
   "nbconvert_exporter": "python",
   "pygments_lexer": "ipython3",
   "version": "3.8.8"
  }
 },
 "nbformat": 4,
 "nbformat_minor": 1
}
